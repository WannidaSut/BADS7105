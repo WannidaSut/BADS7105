{
 "cells": [
  {
   "cell_type": "code",
   "execution_count": 28,
   "metadata": {},
   "outputs": [
    {
     "name": "stderr",
     "output_type": "stream",
     "text": [
      "C:\\Users\\User\\anaconda3\\lib\\site-packages\\ipykernel\\ipkernel.py:287: DeprecationWarning: `should_run_async` will not call `transform_cell` automatically in the future. Please pass the result to `transformed_cell` argument and any exception that happen during thetransform in `preprocessing_exc_tuple` in IPython 7.17 and above.\n",
      "  and should_run_async(code)\n"
     ]
    },
    {
     "name": "stdout",
     "output_type": "stream",
     "text": [
      "Requirement already up-to-date: pandas in c:\\users\\user\\anaconda3\\lib\\site-packages (1.3.0)\n",
      "Requirement already satisfied, skipping upgrade: python-dateutil>=2.7.3 in c:\\users\\user\\anaconda3\\lib\\site-packages (from pandas) (2.8.1)\n",
      "Requirement already satisfied, skipping upgrade: numpy>=1.17.3 in c:\\users\\user\\anaconda3\\lib\\site-packages (from pandas) (1.20.3)\n",
      "Requirement already satisfied, skipping upgrade: pytz>=2017.3 in c:\\users\\user\\anaconda3\\lib\\site-packages (from pandas) (2020.1)\n",
      "Requirement already satisfied, skipping upgrade: six>=1.5 in c:\\users\\user\\anaconda3\\lib\\site-packages (from python-dateutil>=2.7.3->pandas) (1.15.0)\n",
      "Requirement already up-to-date: gensim in c:\\users\\user\\anaconda3\\lib\\site-packages (4.0.1)\n",
      "Requirement already satisfied, skipping upgrade: numpy>=1.11.3 in c:\\users\\user\\anaconda3\\lib\\site-packages (from gensim) (1.20.3)\n",
      "Requirement already satisfied, skipping upgrade: Cython==0.29.21 in c:\\users\\user\\anaconda3\\lib\\site-packages (from gensim) (0.29.21)\n",
      "Requirement already satisfied, skipping upgrade: scipy>=0.18.1 in c:\\users\\user\\anaconda3\\lib\\site-packages (from gensim) (1.5.2)\n",
      "Requirement already satisfied, skipping upgrade: smart-open>=1.8.1 in c:\\users\\user\\anaconda3\\lib\\site-packages (from gensim) (5.1.0)\n",
      "Requirement already up-to-date: pythainlp in c:\\users\\user\\anaconda3\\lib\\site-packages (2.3.1)\n",
      "Requirement already satisfied, skipping upgrade: requests>=2.22.0 in c:\\users\\user\\anaconda3\\lib\\site-packages (from pythainlp) (2.24.0)\n",
      "Requirement already satisfied, skipping upgrade: python-crfsuite>=0.9.6 in c:\\users\\user\\anaconda3\\lib\\site-packages (from pythainlp) (0.9.7)\n",
      "Requirement already satisfied, skipping upgrade: tinydb>=3.0 in c:\\users\\user\\anaconda3\\lib\\site-packages (from pythainlp) (4.4.0)\n",
      "Requirement already satisfied, skipping upgrade: certifi>=2017.4.17 in c:\\users\\user\\anaconda3\\lib\\site-packages (from requests>=2.22.0->pythainlp) (2020.6.20)\n",
      "Requirement already satisfied, skipping upgrade: chardet<4,>=3.0.2 in c:\\users\\user\\anaconda3\\lib\\site-packages (from requests>=2.22.0->pythainlp) (3.0.4)\n",
      "Requirement already satisfied, skipping upgrade: idna<3,>=2.5 in c:\\users\\user\\anaconda3\\lib\\site-packages (from requests>=2.22.0->pythainlp) (2.10)\n",
      "Requirement already satisfied, skipping upgrade: urllib3!=1.25.0,!=1.25.1,<1.26,>=1.21.1 in c:\\users\\user\\anaconda3\\lib\\site-packages (from requests>=2.22.0->pythainlp) (1.25.11)\n",
      "Requirement already up-to-date: pyLDAvis in c:\\users\\user\\anaconda3\\lib\\site-packages (3.3.1)\n",
      "Requirement already satisfied, skipping upgrade: sklearn in c:\\users\\user\\anaconda3\\lib\\site-packages (from pyLDAvis) (0.0)\n",
      "Requirement already satisfied, skipping upgrade: jinja2 in c:\\users\\user\\anaconda3\\lib\\site-packages (from pyLDAvis) (2.11.2)\n",
      "Requirement already satisfied, skipping upgrade: setuptools in c:\\users\\user\\anaconda3\\lib\\site-packages (from pyLDAvis) (50.3.1.post20201107)\n",
      "Requirement already satisfied, skipping upgrade: scipy in c:\\users\\user\\anaconda3\\lib\\site-packages (from pyLDAvis) (1.5.2)\n",
      "Requirement already satisfied, skipping upgrade: scikit-learn in c:\\users\\user\\anaconda3\\lib\\site-packages (from pyLDAvis) (0.24.2)\n",
      "Requirement already satisfied, skipping upgrade: gensim in c:\\users\\user\\anaconda3\\lib\\site-packages (from pyLDAvis) (4.0.1)\n",
      "Requirement already satisfied, skipping upgrade: pandas>=1.2.0 in c:\\users\\user\\anaconda3\\lib\\site-packages (from pyLDAvis) (1.3.0)\n",
      "Requirement already satisfied, skipping upgrade: joblib in c:\\users\\user\\anaconda3\\lib\\site-packages (from pyLDAvis) (0.17.0)\n",
      "Requirement already satisfied, skipping upgrade: funcy in c:\\users\\user\\anaconda3\\lib\\site-packages (from pyLDAvis) (1.16)\n",
      "Requirement already satisfied, skipping upgrade: numpy>=1.20.0 in c:\\users\\user\\anaconda3\\lib\\site-packages (from pyLDAvis) (1.20.3)\n",
      "Requirement already satisfied, skipping upgrade: numexpr in c:\\users\\user\\anaconda3\\lib\\site-packages (from pyLDAvis) (2.7.1)\n",
      "Requirement already satisfied, skipping upgrade: future in c:\\users\\user\\anaconda3\\lib\\site-packages (from pyLDAvis) (0.18.2)\n",
      "Requirement already satisfied, skipping upgrade: MarkupSafe>=0.23 in c:\\users\\user\\anaconda3\\lib\\site-packages (from jinja2->pyLDAvis) (1.1.1)\n",
      "Requirement already satisfied, skipping upgrade: threadpoolctl>=2.0.0 in c:\\users\\user\\anaconda3\\lib\\site-packages (from scikit-learn->pyLDAvis) (2.1.0)\n",
      "Requirement already satisfied, skipping upgrade: smart-open>=1.8.1 in c:\\users\\user\\anaconda3\\lib\\site-packages (from gensim->pyLDAvis) (5.1.0)\n",
      "Requirement already satisfied, skipping upgrade: Cython==0.29.21 in c:\\users\\user\\anaconda3\\lib\\site-packages (from gensim->pyLDAvis) (0.29.21)\n",
      "Requirement already satisfied, skipping upgrade: python-dateutil>=2.7.3 in c:\\users\\user\\anaconda3\\lib\\site-packages (from pandas>=1.2.0->pyLDAvis) (2.8.1)\n",
      "Requirement already satisfied, skipping upgrade: pytz>=2017.3 in c:\\users\\user\\anaconda3\\lib\\site-packages (from pandas>=1.2.0->pyLDAvis) (2020.1)\n",
      "Requirement already satisfied, skipping upgrade: six>=1.5 in c:\\users\\user\\anaconda3\\lib\\site-packages (from python-dateutil>=2.7.3->pandas>=1.2.0->pyLDAvis) (1.15.0)\n"
     ]
    }
   ],
   "source": [
    "!pip install --upgrade pandas\n",
    "!pip install --upgrade gensim\n",
    "!pip install --upgrade pythainlp\n",
    "!pip install --upgrade pyLDAvis"
   ]
  },
  {
   "cell_type": "code",
   "execution_count": 29,
   "metadata": {},
   "outputs": [
    {
     "name": "stderr",
     "output_type": "stream",
     "text": [
      "C:\\Users\\User\\anaconda3\\lib\\site-packages\\ipykernel\\ipkernel.py:287: DeprecationWarning: `should_run_async` will not call `transform_cell` automatically in the future. Please pass the result to `transformed_cell` argument and any exception that happen during thetransform in `preprocessing_exc_tuple` in IPython 7.17 and above.\n",
      "  and should_run_async(code)\n"
     ]
    }
   ],
   "source": [
    "import pandas as pd\n",
    "import numpy as np\n",
    "import re\n",
    "import string\n",
    "from pprint import pprint\n",
    "import matplotlib.pyplot as plt\n",
    "import seaborn as sns\n",
    "import networkx as nx\n",
    "import pandas as pd\n",
    "import pythainlp\n",
    "import gensim\n",
    "import pyLDAvis\n",
    "import pyLDAvis.gensim_models\n",
    "import six\n",
    "pyLDAvis.enable_notebook()"
   ]
  },
  {
   "cell_type": "code",
   "execution_count": 30,
   "metadata": {},
   "outputs": [
    {
     "name": "stderr",
     "output_type": "stream",
     "text": [
      "C:\\Users\\User\\anaconda3\\lib\\site-packages\\ipykernel\\ipkernel.py:287: DeprecationWarning: `should_run_async` will not call `transform_cell` automatically in the future. Please pass the result to `transformed_cell` argument and any exception that happen during thetransform in `preprocessing_exc_tuple` in IPython 7.17 and above.\n",
      "  and should_run_async(code)\n"
     ]
    }
   ],
   "source": [
    "df = pd.read_csv('CustomerReviews.csv')"
   ]
  },
  {
   "cell_type": "code",
   "execution_count": 31,
   "metadata": {},
   "outputs": [
    {
     "name": "stderr",
     "output_type": "stream",
     "text": [
      "C:\\Users\\User\\anaconda3\\lib\\site-packages\\ipykernel\\ipkernel.py:287: DeprecationWarning: `should_run_async` will not call `transform_cell` automatically in the future. Please pass the result to `transformed_cell` argument and any exception that happen during thetransform in `preprocessing_exc_tuple` in IPython 7.17 and above.\n",
      "  and should_run_async(code)\n"
     ]
    },
    {
     "data": {
      "text/html": [
       "<div>\n",
       "<style scoped>\n",
       "    .dataframe tbody tr th:only-of-type {\n",
       "        vertical-align: middle;\n",
       "    }\n",
       "\n",
       "    .dataframe tbody tr th {\n",
       "        vertical-align: top;\n",
       "    }\n",
       "\n",
       "    .dataframe thead th {\n",
       "        text-align: right;\n",
       "    }\n",
       "</style>\n",
       "<table border=\"1\" class=\"dataframe\">\n",
       "  <thead>\n",
       "    <tr style=\"text-align: right;\">\n",
       "      <th></th>\n",
       "      <th>Review ID</th>\n",
       "      <th>Restaurant_ID</th>\n",
       "      <th>Restaurant</th>\n",
       "      <th>User</th>\n",
       "      <th>Headline</th>\n",
       "      <th>Review</th>\n",
       "      <th>Rating</th>\n",
       "    </tr>\n",
       "  </thead>\n",
       "  <tbody>\n",
       "    <tr>\n",
       "      <th>16</th>\n",
       "      <td>17</td>\n",
       "      <td>436045MJ-ข้าน้อยขอชาบู</td>\n",
       "      <td>ข้าน้อยขอชาบู</td>\n",
       "      <td>ployynp</td>\n",
       "      <td>บุฟเฟ่ต์ชาบูและพิซซ่าไม่อั้นในราคา 199 บาท เน้...</td>\n",
       "      <td>หลังจากที่เคยลองสาขายูเนี่ยนมอลล์ไป รอบนี้มาที...</td>\n",
       "      <td>4.0</td>\n",
       "    </tr>\n",
       "    <tr>\n",
       "      <th>17</th>\n",
       "      <td>18</td>\n",
       "      <td>436045MJ-ข้าน้อยขอชาบู</td>\n",
       "      <td>ข้าน้อยขอชาบู</td>\n",
       "      <td>27a91236fe5e4559a4f097c97a480781</td>\n",
       "      <td>ร้านบุฟเฟ่ต์ ราคามิตรภาพ อยู่ชั้น4 ติดโรงหนัง ...</td>\n",
       "      <td>ร้านบุฟเฟ่ต์ที่มีโปรโมชั่นหัวละ199บาท ไม่รวมน้...</td>\n",
       "      <td>4.0</td>\n",
       "    </tr>\n",
       "    <tr>\n",
       "      <th>18</th>\n",
       "      <td>19</td>\n",
       "      <td>436045MJ-ข้าน้อยขอชาบู</td>\n",
       "      <td>ข้าน้อยขอชาบู</td>\n",
       "      <td>0b81d251e4db486f9bcdba73b374ed99</td>\n",
       "      <td>ของหลากหลาย ปนๆ งงๆ นิดหน่อย</td>\n",
       "      <td>เคยรู้จักร้านนี้จากที่ union mall ไม่เคยได้ลอง...</td>\n",
       "      <td>3.0</td>\n",
       "    </tr>\n",
       "    <tr>\n",
       "      <th>19</th>\n",
       "      <td>20</td>\n",
       "      <td>436045MJ-ข้าน้อยขอชาบู</td>\n",
       "      <td>ข้าน้อยขอชาบู</td>\n",
       "      <td>40e0e087f3914fd49a8933b5a29936ca</td>\n",
       "      <td>อร่อยมากค่ะ คุ้มค่าสมราคา บุฟเฟ่หมูผักต่างๆ รว...</td>\n",
       "      <td>อร่อยมากค่ะ คุ้มค่าสมราคา บุฟเฟ่หมูผักต่างๆ รว...</td>\n",
       "      <td>5.0</td>\n",
       "    </tr>\n",
       "    <tr>\n",
       "      <th>20</th>\n",
       "      <td>21</td>\n",
       "      <td>436045MJ-ข้าน้อยขอชาบู</td>\n",
       "      <td>ข้าน้อยขอชาบู</td>\n",
       "      <td>41841cb99ea243a3a8d4b006e946c586</td>\n",
       "      <td>แม้จะแปลกบ้าง แต่ก็ถือว่าอยู่ในเกณฑ์ที่ดี มีอา...</td>\n",
       "      <td>ก็ตามที่เขียนเลยครับ ว่า ถ้าจะจ่ายในราคา 199 บ...</td>\n",
       "      <td>NaN</td>\n",
       "    </tr>\n",
       "  </tbody>\n",
       "</table>\n",
       "</div>"
      ],
      "text/plain": [
       "    Review ID           Restaurant_ID     Restaurant  \\\n",
       "16         17  436045MJ-ข้าน้อยขอชาบู  ข้าน้อยขอชาบู   \n",
       "17         18  436045MJ-ข้าน้อยขอชาบู  ข้าน้อยขอชาบู   \n",
       "18         19  436045MJ-ข้าน้อยขอชาบู  ข้าน้อยขอชาบู   \n",
       "19         20  436045MJ-ข้าน้อยขอชาบู  ข้าน้อยขอชาบู   \n",
       "20         21  436045MJ-ข้าน้อยขอชาบู  ข้าน้อยขอชาบู   \n",
       "\n",
       "                                User  \\\n",
       "16                           ployynp   \n",
       "17  27a91236fe5e4559a4f097c97a480781   \n",
       "18  0b81d251e4db486f9bcdba73b374ed99   \n",
       "19  40e0e087f3914fd49a8933b5a29936ca   \n",
       "20  41841cb99ea243a3a8d4b006e946c586   \n",
       "\n",
       "                                             Headline  \\\n",
       "16  บุฟเฟ่ต์ชาบูและพิซซ่าไม่อั้นในราคา 199 บาท เน้...   \n",
       "17  ร้านบุฟเฟ่ต์ ราคามิตรภาพ อยู่ชั้น4 ติดโรงหนัง ...   \n",
       "18                       ของหลากหลาย ปนๆ งงๆ นิดหน่อย   \n",
       "19  อร่อยมากค่ะ คุ้มค่าสมราคา บุฟเฟ่หมูผักต่างๆ รว...   \n",
       "20  แม้จะแปลกบ้าง แต่ก็ถือว่าอยู่ในเกณฑ์ที่ดี มีอา...   \n",
       "\n",
       "                                               Review  Rating  \n",
       "16  หลังจากที่เคยลองสาขายูเนี่ยนมอลล์ไป รอบนี้มาที...     4.0  \n",
       "17  ร้านบุฟเฟ่ต์ที่มีโปรโมชั่นหัวละ199บาท ไม่รวมน้...     4.0  \n",
       "18  เคยรู้จักร้านนี้จากที่ union mall ไม่เคยได้ลอง...     3.0  \n",
       "19  อร่อยมากค่ะ คุ้มค่าสมราคา บุฟเฟ่หมูผักต่างๆ รว...     5.0  \n",
       "20  ก็ตามที่เขียนเลยครับ ว่า ถ้าจะจ่ายในราคา 199 บ...     NaN  "
      ]
     },
     "execution_count": 31,
     "metadata": {},
     "output_type": "execute_result"
    }
   ],
   "source": [
    "df.tail()"
   ]
  },
  {
   "cell_type": "code",
   "execution_count": 32,
   "metadata": {
    "scrolled": true
   },
   "outputs": [
    {
     "name": "stderr",
     "output_type": "stream",
     "text": [
      "C:\\Users\\User\\anaconda3\\lib\\site-packages\\ipykernel\\ipkernel.py:287: DeprecationWarning: `should_run_async` will not call `transform_cell` automatically in the future. Please pass the result to `transformed_cell` argument and any exception that happen during thetransform in `preprocessing_exc_tuple` in IPython 7.17 and above.\n",
      "  and should_run_async(code)\n"
     ]
    },
    {
     "data": {
      "text/html": [
       "<div>\n",
       "<style scoped>\n",
       "    .dataframe tbody tr th:only-of-type {\n",
       "        vertical-align: middle;\n",
       "    }\n",
       "\n",
       "    .dataframe tbody tr th {\n",
       "        vertical-align: top;\n",
       "    }\n",
       "\n",
       "    .dataframe thead th {\n",
       "        text-align: right;\n",
       "    }\n",
       "</style>\n",
       "<table border=\"1\" class=\"dataframe\">\n",
       "  <thead>\n",
       "    <tr style=\"text-align: right;\">\n",
       "      <th></th>\n",
       "      <th>Review ID</th>\n",
       "      <th>Restaurant_ID</th>\n",
       "      <th>Restaurant</th>\n",
       "      <th>User</th>\n",
       "      <th>Headline</th>\n",
       "      <th>Review</th>\n",
       "      <th>Rating</th>\n",
       "    </tr>\n",
       "  </thead>\n",
       "  <tbody>\n",
       "    <tr>\n",
       "      <th>0</th>\n",
       "      <td>1</td>\n",
       "      <td>352696Px-mo-mo-paradise-เดอะมอลล์-บางกะปิ</td>\n",
       "      <td>Mo-Mo-Paradise (โม โม พาราไดซ์) เดอะมอลล์ บางกะปิ</td>\n",
       "      <td>7b16469831074f7abc7824745ee75212</td>\n",
       "      <td>ที่สำคัญของร้านนี้คือบริการดีมากพนักงานน่ารักส...</td>\n",
       "      <td>ที่สำคัญของร้านนี้คือบริการดีมากพนักงานน่ารักส...</td>\n",
       "      <td>5.0</td>\n",
       "    </tr>\n",
       "    <tr>\n",
       "      <th>1</th>\n",
       "      <td>2</td>\n",
       "      <td>352696Px-mo-mo-paradise-เดอะมอลล์-บางกะปิ</td>\n",
       "      <td>Mo-Mo-Paradise (โม โม พาราไดซ์) เดอะมอลล์ บางกะปิ</td>\n",
       "      <td>pakkaramonpondej</td>\n",
       "      <td>รสชาติเหมือนทุกสาขา แต่สาขานี้ บริการดี ที่นั่งดี</td>\n",
       "      <td>นึกถึงชาบูญี่ปุ่นยังไงก็ต้อง คิดถึงโมโม่ พาราไ...</td>\n",
       "      <td>5.0</td>\n",
       "    </tr>\n",
       "    <tr>\n",
       "      <th>2</th>\n",
       "      <td>3</td>\n",
       "      <td>352696Px-mo-mo-paradise-เดอะมอลล์-บางกะปิ</td>\n",
       "      <td>Mo-Mo-Paradise (โม โม พาราไดซ์) เดอะมอลล์ บางกะปิ</td>\n",
       "      <td>saanowy</td>\n",
       "      <td>ชาบูพรีเมี่ยมสไตล์ญี่ปุ่น เนื้อดีมากกก</td>\n",
       "      <td>มาทานช่วงนี้ สามารถนั่งโต๊ะเดียวกัน หม้อเดียวก...</td>\n",
       "      <td>4.0</td>\n",
       "    </tr>\n",
       "    <tr>\n",
       "      <th>3</th>\n",
       "      <td>4</td>\n",
       "      <td>352696Px-mo-mo-paradise-เดอะมอลล์-บางกะปิ</td>\n",
       "      <td>Mo-Mo-Paradise (โม โม พาราไดซ์) เดอะมอลล์ บางกะปิ</td>\n",
       "      <td>ployynp</td>\n",
       "      <td>เนื้อดี ไอติมดี คุ้มค่าดี</td>\n",
       "      <td>ถ้านึกถึงชาบูที่มีเนื้อเน้นๆ ในราคาไม่โหดจนเกิ...</td>\n",
       "      <td>4.0</td>\n",
       "    </tr>\n",
       "    <tr>\n",
       "      <th>4</th>\n",
       "      <td>5</td>\n",
       "      <td>352696Px-mo-mo-paradise-เดอะมอลล์-บางกะปิ</td>\n",
       "      <td>Mo-Mo-Paradise (โม โม พาราไดซ์) เดอะมอลล์ บางกะปิ</td>\n",
       "      <td>665a902b335b434ab489f00f2fbb477e</td>\n",
       "      <td>อาหารมีคุณภาพ บริการดีค่ะ</td>\n",
       "      <td>เดินมาหน้าร้านแล้วได้กลิ่นชาบูหอมมาก ๆ  ประกอบ...</td>\n",
       "      <td>5.0</td>\n",
       "    </tr>\n",
       "  </tbody>\n",
       "</table>\n",
       "</div>"
      ],
      "text/plain": [
       "   Review ID                              Restaurant_ID  \\\n",
       "0          1  352696Px-mo-mo-paradise-เดอะมอลล์-บางกะปิ   \n",
       "1          2  352696Px-mo-mo-paradise-เดอะมอลล์-บางกะปิ   \n",
       "2          3  352696Px-mo-mo-paradise-เดอะมอลล์-บางกะปิ   \n",
       "3          4  352696Px-mo-mo-paradise-เดอะมอลล์-บางกะปิ   \n",
       "4          5  352696Px-mo-mo-paradise-เดอะมอลล์-บางกะปิ   \n",
       "\n",
       "                                          Restaurant  \\\n",
       "0  Mo-Mo-Paradise (โม โม พาราไดซ์) เดอะมอลล์ บางกะปิ   \n",
       "1  Mo-Mo-Paradise (โม โม พาราไดซ์) เดอะมอลล์ บางกะปิ   \n",
       "2  Mo-Mo-Paradise (โม โม พาราไดซ์) เดอะมอลล์ บางกะปิ   \n",
       "3  Mo-Mo-Paradise (โม โม พาราไดซ์) เดอะมอลล์ บางกะปิ   \n",
       "4  Mo-Mo-Paradise (โม โม พาราไดซ์) เดอะมอลล์ บางกะปิ   \n",
       "\n",
       "                               User  \\\n",
       "0  7b16469831074f7abc7824745ee75212   \n",
       "1                  pakkaramonpondej   \n",
       "2                           saanowy   \n",
       "3                           ployynp   \n",
       "4  665a902b335b434ab489f00f2fbb477e   \n",
       "\n",
       "                                            Headline  \\\n",
       "0  ที่สำคัญของร้านนี้คือบริการดีมากพนักงานน่ารักส...   \n",
       "1  รสชาติเหมือนทุกสาขา แต่สาขานี้ บริการดี ที่นั่งดี   \n",
       "2             ชาบูพรีเมี่ยมสไตล์ญี่ปุ่น เนื้อดีมากกก   \n",
       "3                          เนื้อดี ไอติมดี คุ้มค่าดี   \n",
       "4                          อาหารมีคุณภาพ บริการดีค่ะ   \n",
       "\n",
       "                                              Review  Rating  \n",
       "0  ที่สำคัญของร้านนี้คือบริการดีมากพนักงานน่ารักส...     5.0  \n",
       "1  นึกถึงชาบูญี่ปุ่นยังไงก็ต้อง คิดถึงโมโม่ พาราไ...     5.0  \n",
       "2  มาทานช่วงนี้ สามารถนั่งโต๊ะเดียวกัน หม้อเดียวก...     4.0  \n",
       "3  ถ้านึกถึงชาบูที่มีเนื้อเน้นๆ ในราคาไม่โหดจนเกิ...     4.0  \n",
       "4  เดินมาหน้าร้านแล้วได้กลิ่นชาบูหอมมาก ๆ  ประกอบ...     5.0  "
      ]
     },
     "execution_count": 32,
     "metadata": {},
     "output_type": "execute_result"
    }
   ],
   "source": [
    "df.head()"
   ]
  },
  {
   "cell_type": "code",
   "execution_count": 33,
   "metadata": {},
   "outputs": [
    {
     "name": "stdout",
     "output_type": "stream",
     "text": [
      "<class 'pandas.core.frame.DataFrame'>\n",
      "RangeIndex: 21 entries, 0 to 20\n",
      "Data columns (total 7 columns):\n",
      " #   Column         Non-Null Count  Dtype  \n",
      "---  ------         --------------  -----  \n",
      " 0   Review ID      21 non-null     int64  \n",
      " 1   Restaurant_ID  21 non-null     object \n",
      " 2   Restaurant     21 non-null     object \n",
      " 3   User           21 non-null     object \n",
      " 4   Headline       21 non-null     object \n",
      " 5   Review         21 non-null     object \n",
      " 6   Rating         20 non-null     float64\n",
      "dtypes: float64(1), int64(1), object(5)\n",
      "memory usage: 1.3+ KB\n"
     ]
    },
    {
     "name": "stderr",
     "output_type": "stream",
     "text": [
      "C:\\Users\\User\\anaconda3\\lib\\site-packages\\ipykernel\\ipkernel.py:287: DeprecationWarning: `should_run_async` will not call `transform_cell` automatically in the future. Please pass the result to `transformed_cell` argument and any exception that happen during thetransform in `preprocessing_exc_tuple` in IPython 7.17 and above.\n",
      "  and should_run_async(code)\n"
     ]
    }
   ],
   "source": [
    "df.info()"
   ]
  },
  {
   "cell_type": "code",
   "execution_count": 34,
   "metadata": {},
   "outputs": [
    {
     "name": "stderr",
     "output_type": "stream",
     "text": [
      "C:\\Users\\User\\anaconda3\\lib\\site-packages\\ipykernel\\ipkernel.py:287: DeprecationWarning: `should_run_async` will not call `transform_cell` automatically in the future. Please pass the result to `transformed_cell` argument and any exception that happen during thetransform in `preprocessing_exc_tuple` in IPython 7.17 and above.\n",
      "  and should_run_async(code)\n"
     ]
    }
   ],
   "source": [
    "stopwords = list(pythainlp.corpus.thai_stopwords())\n",
    "removed_words = ['ครับ','ค่ะ','::','       ','%','  ', '\\n', 'ร้าน', '(', ')','-','!!!','555',':',';','++','%']\n",
    "screening_words = stopwords + removed_words\n",
    "\n",
    "def tokenize_with_space(sentence):\n",
    "  merged = ''\n",
    "  words = pythainlp.word_tokenize(str(sentence), engine='newmm')\n",
    "  for word in words:\n",
    "    if word not in screening_words:\n",
    "      merged = merged + ',' + word\n",
    "  return merged[1:]"
   ]
  },
  {
   "cell_type": "code",
   "execution_count": 35,
   "metadata": {},
   "outputs": [
    {
     "name": "stderr",
     "output_type": "stream",
     "text": [
      "C:\\Users\\User\\anaconda3\\lib\\site-packages\\ipykernel\\ipkernel.py:287: DeprecationWarning: `should_run_async` will not call `transform_cell` automatically in the future. Please pass the result to `transformed_cell` argument and any exception that happen during thetransform in `preprocessing_exc_tuple` in IPython 7.17 and above.\n",
      "  and should_run_async(code)\n"
     ]
    },
    {
     "data": {
      "text/html": [
       "<div>\n",
       "<style scoped>\n",
       "    .dataframe tbody tr th:only-of-type {\n",
       "        vertical-align: middle;\n",
       "    }\n",
       "\n",
       "    .dataframe tbody tr th {\n",
       "        vertical-align: top;\n",
       "    }\n",
       "\n",
       "    .dataframe thead th {\n",
       "        text-align: right;\n",
       "    }\n",
       "</style>\n",
       "<table border=\"1\" class=\"dataframe\">\n",
       "  <thead>\n",
       "    <tr style=\"text-align: right;\">\n",
       "      <th></th>\n",
       "      <th>Review ID</th>\n",
       "      <th>Restaurant_ID</th>\n",
       "      <th>Restaurant</th>\n",
       "      <th>User</th>\n",
       "      <th>Headline</th>\n",
       "      <th>Review</th>\n",
       "      <th>Rating</th>\n",
       "      <th>Review_tokenized</th>\n",
       "    </tr>\n",
       "  </thead>\n",
       "  <tbody>\n",
       "    <tr>\n",
       "      <th>0</th>\n",
       "      <td>1</td>\n",
       "      <td>352696Px-mo-mo-paradise-เดอะมอลล์-บางกะปิ</td>\n",
       "      <td>Mo-Mo-Paradise (โม โม พาราไดซ์) เดอะมอลล์ บางกะปิ</td>\n",
       "      <td>7b16469831074f7abc7824745ee75212</td>\n",
       "      <td>ที่สำคัญของร้านนี้คือบริการดีมากพนักงานน่ารักส...</td>\n",
       "      <td>ที่สำคัญของร้านนี้คือบริการดีมากพนักงานน่ารักส...</td>\n",
       "      <td>5.0</td>\n",
       "      <td>บริการ,ดีมาก,พนักงาน,น่ารัก,สะอาดสะอ้าน,ใส่ใจ,...</td>\n",
       "    </tr>\n",
       "    <tr>\n",
       "      <th>1</th>\n",
       "      <td>2</td>\n",
       "      <td>352696Px-mo-mo-paradise-เดอะมอลล์-บางกะปิ</td>\n",
       "      <td>Mo-Mo-Paradise (โม โม พาราไดซ์) เดอะมอลล์ บางกะปิ</td>\n",
       "      <td>pakkaramonpondej</td>\n",
       "      <td>รสชาติเหมือนทุกสาขา แต่สาขานี้ บริการดี ที่นั่งดี</td>\n",
       "      <td>นึกถึงชาบูญี่ปุ่นยังไงก็ต้อง คิดถึงโมโม่ พาราไ...</td>\n",
       "      <td>5.0</td>\n",
       "      <td>นึกถึง,ชาบู,ญี่ปุ่น, ,คิดถึง,โม,โม่, ,พาราไดซ์...</td>\n",
       "    </tr>\n",
       "    <tr>\n",
       "      <th>2</th>\n",
       "      <td>3</td>\n",
       "      <td>352696Px-mo-mo-paradise-เดอะมอลล์-บางกะปิ</td>\n",
       "      <td>Mo-Mo-Paradise (โม โม พาราไดซ์) เดอะมอลล์ บางกะปิ</td>\n",
       "      <td>saanowy</td>\n",
       "      <td>ชาบูพรีเมี่ยมสไตล์ญี่ปุ่น เนื้อดีมากกก</td>\n",
       "      <td>มาทานช่วงนี้ สามารถนั่งโต๊ะเดียวกัน หม้อเดียวก...</td>\n",
       "      <td>4.0</td>\n",
       "      <td>ทาน, ,นั่ง,โต๊ะ, ,หม้อ, ,โต๊ะ,ยังมี,ฉาก,กั้น, ...</td>\n",
       "    </tr>\n",
       "    <tr>\n",
       "      <th>3</th>\n",
       "      <td>4</td>\n",
       "      <td>352696Px-mo-mo-paradise-เดอะมอลล์-บางกะปิ</td>\n",
       "      <td>Mo-Mo-Paradise (โม โม พาราไดซ์) เดอะมอลล์ บางกะปิ</td>\n",
       "      <td>ployynp</td>\n",
       "      <td>เนื้อดี ไอติมดี คุ้มค่าดี</td>\n",
       "      <td>ถ้านึกถึงชาบูที่มีเนื้อเน้นๆ ในราคาไม่โหดจนเกิ...</td>\n",
       "      <td>4.0</td>\n",
       "      <td>นึกถึง,ชาบู,เนื้อ, ,ราคา,โหด,เกินไป, ,นึกถึง,โ...</td>\n",
       "    </tr>\n",
       "    <tr>\n",
       "      <th>4</th>\n",
       "      <td>5</td>\n",
       "      <td>352696Px-mo-mo-paradise-เดอะมอลล์-บางกะปิ</td>\n",
       "      <td>Mo-Mo-Paradise (โม โม พาราไดซ์) เดอะมอลล์ บางกะปิ</td>\n",
       "      <td>665a902b335b434ab489f00f2fbb477e</td>\n",
       "      <td>อาหารมีคุณภาพ บริการดีค่ะ</td>\n",
       "      <td>เดินมาหน้าร้านแล้วได้กลิ่นชาบูหอมมาก ๆ  ประกอบ...</td>\n",
       "      <td>5.0</td>\n",
       "      <td>เดิน,หน้า,ได้กลิ่น,ชาบู,หอ,มมาก, ,โปร,บัตรเครด...</td>\n",
       "    </tr>\n",
       "  </tbody>\n",
       "</table>\n",
       "</div>"
      ],
      "text/plain": [
       "   Review ID                              Restaurant_ID  \\\n",
       "0          1  352696Px-mo-mo-paradise-เดอะมอลล์-บางกะปิ   \n",
       "1          2  352696Px-mo-mo-paradise-เดอะมอลล์-บางกะปิ   \n",
       "2          3  352696Px-mo-mo-paradise-เดอะมอลล์-บางกะปิ   \n",
       "3          4  352696Px-mo-mo-paradise-เดอะมอลล์-บางกะปิ   \n",
       "4          5  352696Px-mo-mo-paradise-เดอะมอลล์-บางกะปิ   \n",
       "\n",
       "                                          Restaurant  \\\n",
       "0  Mo-Mo-Paradise (โม โม พาราไดซ์) เดอะมอลล์ บางกะปิ   \n",
       "1  Mo-Mo-Paradise (โม โม พาราไดซ์) เดอะมอลล์ บางกะปิ   \n",
       "2  Mo-Mo-Paradise (โม โม พาราไดซ์) เดอะมอลล์ บางกะปิ   \n",
       "3  Mo-Mo-Paradise (โม โม พาราไดซ์) เดอะมอลล์ บางกะปิ   \n",
       "4  Mo-Mo-Paradise (โม โม พาราไดซ์) เดอะมอลล์ บางกะปิ   \n",
       "\n",
       "                               User  \\\n",
       "0  7b16469831074f7abc7824745ee75212   \n",
       "1                  pakkaramonpondej   \n",
       "2                           saanowy   \n",
       "3                           ployynp   \n",
       "4  665a902b335b434ab489f00f2fbb477e   \n",
       "\n",
       "                                            Headline  \\\n",
       "0  ที่สำคัญของร้านนี้คือบริการดีมากพนักงานน่ารักส...   \n",
       "1  รสชาติเหมือนทุกสาขา แต่สาขานี้ บริการดี ที่นั่งดี   \n",
       "2             ชาบูพรีเมี่ยมสไตล์ญี่ปุ่น เนื้อดีมากกก   \n",
       "3                          เนื้อดี ไอติมดี คุ้มค่าดี   \n",
       "4                          อาหารมีคุณภาพ บริการดีค่ะ   \n",
       "\n",
       "                                              Review  Rating  \\\n",
       "0  ที่สำคัญของร้านนี้คือบริการดีมากพนักงานน่ารักส...     5.0   \n",
       "1  นึกถึงชาบูญี่ปุ่นยังไงก็ต้อง คิดถึงโมโม่ พาราไ...     5.0   \n",
       "2  มาทานช่วงนี้ สามารถนั่งโต๊ะเดียวกัน หม้อเดียวก...     4.0   \n",
       "3  ถ้านึกถึงชาบูที่มีเนื้อเน้นๆ ในราคาไม่โหดจนเกิ...     4.0   \n",
       "4  เดินมาหน้าร้านแล้วได้กลิ่นชาบูหอมมาก ๆ  ประกอบ...     5.0   \n",
       "\n",
       "                                    Review_tokenized  \n",
       "0  บริการ,ดีมาก,พนักงาน,น่ารัก,สะอาดสะอ้าน,ใส่ใจ,...  \n",
       "1  นึกถึง,ชาบู,ญี่ปุ่น, ,คิดถึง,โม,โม่, ,พาราไดซ์...  \n",
       "2  ทาน, ,นั่ง,โต๊ะ, ,หม้อ, ,โต๊ะ,ยังมี,ฉาก,กั้น, ...  \n",
       "3  นึกถึง,ชาบู,เนื้อ, ,ราคา,โหด,เกินไป, ,นึกถึง,โ...  \n",
       "4  เดิน,หน้า,ได้กลิ่น,ชาบู,หอ,มมาก, ,โปร,บัตรเครด...  "
      ]
     },
     "execution_count": 35,
     "metadata": {},
     "output_type": "execute_result"
    }
   ],
   "source": [
    "df['Review_tokenized'] = df['Review'].apply(lambda x: tokenize_with_space(x))\n",
    "df.head()"
   ]
  },
  {
   "cell_type": "code",
   "execution_count": 36,
   "metadata": {},
   "outputs": [
    {
     "name": "stdout",
     "output_type": "stream",
     "text": [
      "dict_keys([' ', '1', '4', '560', 'กิน', 'ข้างนอก', 'ความต้องการ', 'คอ', 'คุณภาพ', 'คุ้ม', 'จำกัด', 'ซุป', 'ดำ', 'ดี', 'ดีมาก', 'ถาด', 'ถาม', 'น่ารัก', 'น้ำ', 'น้ำจิ้ม', 'บริการ', 'บาท', 'ประทับใจ', 'พนักงาน', 'พอกับ', 'ภาพ', 'รสชาติ', 'ราคา', 'สรุป', 'สะอาดสะอ้าน', 'สัน', 'หลากหลาย', 'อร่อย', 'อันนี้', 'อาหาร', 'เคลม', 'เซ็ท', 'เต้าเจี้ยว', 'เนื้อ', 'เป็ด', 'เผ็ด', 'แบบนี้', 'แปลก', 'แฟน', 'โดยรวม', 'โมจิ', 'ใส่ใจ', 'ไม่ต้อง', 'ไอติม', '\\u200b', '           ', '21', '30', '9', 'CTW', 'Terminal', 'กา', 'การงด', 'คิดถึง', 'ชาบู', 'ญี่ปุ่น', 'ฐาน', 'ทะยอย', 'ทำงาน', 'ที่ทาง', 'นาที', 'นึกถึง', 'พนักงานบริการ', 'พระราม', 'พรีเมียม', 'พาราไดซ์', 'มาตรา', 'มีโอ', 'รายละเอียด', 'ลูกค้า', 'สมาทาน', 'สาขา', 'สู้', 'ออร์เดอร์', 'เครื่องดื่ม', 'เค้า', 'เจอ', 'เป็นกันเอง', 'เหวี่ยง', 'แจ้ง', 'โม', 'โม่', 'โอเค', '', '2', '600', 'กก', 'กรุบ', 'กั้น', 'ของหวาน', 'คนละ', 'คาว', 'คุ', 'คุ้มค่า', 'จาน', 'จิ้ม', 'จืด', 'ฉาก', 'ชอบ', 'ชาเขียว', 'ชิ้น', 'ซอย', 'ซอส', 'ตก', 'ตะ', 'ตัก', 'ตามน้ำ', 'ต่างกัน', 'ถั่ว', 'ถ่ายรูป', 'ทาน', 'นั่ง', 'นุ่ม', 'บด', 'บาร์', 'บู', 'ผัก', 'ภาษา', 'มีชื่อ', 'ยังมี', 'รส', 'รี่', 'รู้สึก', 'ลอง', 'ลิ้น', 'ลืม', 'ววว', 'สด', 'สตอ', 'สั่ง', 'สามรส', 'ส่วนตัว', 'หนึบ', 'หม้อ', 'หวาน', 'อยากได้', 'เข้มข้น', 'เข้ากัน', 'เค็ม', 'เนื้อวัว', 'เนื้อสัตว์', 'เนื้อหมู', 'เบอ', 'เป็นผู้ใหญ่', 'เลือก', 'เสิร์ฟ', 'เหนียว', 'เห็ด', 'แดง', 'แตก', 'แตา', 'แนว', 'แย้', 'โควิด', 'โต๊ะ', 'โร', 'ใส', 'ไก่', 'ไข่', 'ไดฟูกุ', 'ไผ่', 'ไม้', 'ไหว', '3', 'ข้าว', 'จ่าย', 'ถ้วย', 'ธรรมดา', 'ส', 'ออ', 'เกินไป', 'เลี่ยน', 'โปร', 'โหด', 'ไว', 'ไอศกรีม', 'ขนม', 'คุณภาพดี', 'ตัดสินใจ', 'ต่าง ๆ', 'ที่จะ', 'ที่นั่ง', 'บัตรเครดิต', 'มมาก', 'ลูกชิ้น', 'สบายดี', 'หน้า', 'หอ', 'เดิน', 'เด็ก', 'เส้น', 'เหมือนกับ', 'แคบ', 'ได้กลิ่น', 'คามี', 'ซึ', 'นะคะ', 'บุ', 'บ๋วย', 'พอน', 'ฟเฟ่', 'รา', 'สาย', 'หยิบ', 'โซน', 'โปรโมชั่น', '+', '/', '20', '4.0', '5', 'Menu', 'Number', 'กรรมวิธี', 'กะปิ', 'ก์', 'คน', 'คะแนน', 'ชุด', 'ดังเดิม', 'บุฟเฟ่ต์', 'ประ', 'พารา', 'มอ', 'ยุค', 'ร้านอาหาร', 'ล', 'สุกี้', 'สไตล์', 'ส์', 'หมู', 'หลาก', 'หลายชนิด', 'เดอะ', 'เมนู', 'แบบฉบับ', 'แบ่ง', 'ได', 'ไทย', '–', '!!!!', '500', 'กาแฟ', 'งวด', 'ตอนที่', 'ตำ', 'ติด', 'ทั่วไป', 'น', 'บ๊วย', 'ยุ', 'ร้อน', 'ลุย', 'สุกี้ยากี้', 'อยู่แล้ว', 'ออสเตรเลีย', 'เป็นปกติ', 'เฟรนไชส์', 'เรื่อง', 'เหมาะสม', 'แนะนำ', 'โช', 'ไข่ไก่', 'ไอศครีม', '..', '399', 'กุ้ง', 'ของกิน', 'ขา', 'ชิ', 'ซูชิ', 'ซ่า', 'ตอน', 'ตอนนี้', 'นิดนึง', 'ปุระ', 'ปูอัด', 'ม', 'ละลานตา', 'สายพาน', 'หิว', 'ฮ่า', 'าน', 'เกี๊ยว', 'เท', 'เทียบ', 'เล่น', 'แพง', 'แล้วก็', 'ไม่งั้น', 'กลาย', 'กี่', 'ชั่วคราว', 'ชื่นใจ', 'ซะงั้น', 'ญี่', 'ดึก', 'ตบท้าย', 'ตัว', 'ทอด', 'ทานอาหาร', 'นพ', 'นึก', 'น้ะ', 'ปลา', 'ปุ', 'ผิดหวัง', 'วก', 'สมใจ', 'อย่า', 'อาหารเสริม', 'เติม', 'เป็นมา', 'เป็นหลัก', 'เย็น', '1.15', 'net', 'กลับมา', 'ของคาว', 'ชม.', 'ตรงนั้น', 'ยืน', 'ลายตา', 'สไลด์', 'อัพเดท', 'อิ่ม', 'เบ', 'เพลิน', 'ไลน์', '\"', '/คน', '15', '359', 'G', 'Net', 'Shabushi', 'กด', 'กรอ', 'ขาดสารอาหาร', 'ขึ้นราคา', 'ข่าว', 'คนเดียว', 'ครึ่ง', 'คิว', 'งาน', 'จุ', 'ชั่วโมง', 'ชั้น', 'ชื่น', 'ดู', 'ตลับ', 'ตับ', 'ตั้งอยู่', 'ติง', 'ถนนใหญ่', 'ถูกใจ', 'ทำ', 'ทิ้ง', 'น้ำมัน', 'บดี', 'ปลาดิบ', 'ปอกเปลือก', 'ฝรั่ง', 'ฝั่ง', 'มอลล์', 'มื้อ', 'รอ', 'ระดับ', 'รายการ', 'ลด', 'ลา', 'ลูก', 'วันหยุด', 'วาง', 'วานิลา', 'สะอาด', 'สาเหตุ', 'สำหรับ', 'สไปรท์', 'หนา', 'หอม', 'หอย', 'หาไม่', 'ห่างหาย', 'ห้าง', 'อม', 'ออกมา', 'อาทิตย์', 'อีกครั้ง', 'เช็คบิล', 'เด่น', 'เด้ง', 'เบคอน', 'เปรี้ยวหวาน', 'เพื่อน', 'เลิก', 'เวลา', 'เสาร์', 'เหมือน', 'เหมือนกัน', 'แก้ว', 'แถม', 'แน่น', 'แป้ง', 'แย่', 'แออัด', 'โดน', 'โดยประมาณ', 'โฟลต', 'โอ', 'ใจดี', 'ใจมา', 'ใช้ได้', 'ใส่', 'ได้ยิน', 'ชอค', 'ต', 'นัด', 'นิ', 'มะนาว', 'มุ', 'ลงเอย', 'ว', 'วันก่อน', 'ห', 'หา', 'อยุ่', 'อาหารสด', 'เบอร์', 'แกงค์', 'แล', 'โก', 'กินที่', 'ขยัน', 'จอง', 'ชู', 'ณ์', 'บุฟเฟต์', 'ป', 'ประตู', 'พลาด', 'พอได้', 'พี่', 'รอบ', 'ร้อย', 'สาม', 'สุดท้าย', 'หลายครั้ง', 'หล่ะ', 'อาราม', 'เข้าหน้า', 'เต็ม', 'โชคดี', 'ขวัญใจ', 'ข้อดี', 'ต้องการ', 'ทั่วถึง', 'นํ้า', 'บ', 'ฟเฟ', 'มี่', 'ระบบ', 'รีวิว', 'สวัสดี', 'เก้', 'ใช้แล้ว', '^^', 'xx', 'กลยุทธ์', 'ขนาด', 'ข้น', 'ข้าวปั้น', 'ค่า', 'ชอป', 'ซุ้ม', 'ดีขึ้น', 'ตรงข้าม', 'ตรงนี้', 'ต้ม', 'ต้มยำ', 'ท่าน', 'นัล', 'บริเวณ', 'บัตรสมาชิก', 'ปรับปรุง', 'มันดี', 'มากขึ้น', 'ยอด', 'ลาน', 'สลัด', 'หมู่คณะ', 'ออกร้าน', 'อิอิ', 'เครือ', 'เคลื่อนตัว', 'เคาน์เตอร์', 'เบา', 'เป็นแนว', 'แมค', 'โชคชะตา', 'โด', 'โน้น', 'โออิชิ', '199', '39', '40', '49', 'HALL', 'MCC', 'ค่ายมวย', 'ด้านใน', 'ตอนแรก', 'ตัวเลือก', 'ติดกับ', 'ที่ไหนได้', 'นม', 'นา', 'น้ำดื่ม', 'พิซ', 'พิซซ่า', 'ฟี', 'ยู', 'รี', 'หลังจากที่', 'อลล์', 'อเรีย', 'เซ', 'แกงเขียวหวาน', 'แน่นอน', 'แวะ', '10', '300', '6', 'VAT', 'กำ', 'ค่าน้ำ', 'ช่อง', 'ซี', 'ซึป', 'ถูกหวย', 'ทอน', 'นึง', 'ฟรี', 'ฟู้ด', 'รับประกัน', 'ลอตเตอรี่', 'สัปดาห์', 'หวย', 'หัว', 'ฮัน', 'เงิน', 'แลก', 'โทส', 'ได้เวลา', 'Narai', 'mall', 'pizza', 'pizzeria', 'union', 'ของสด', 'ขึ้นใจ', 'ข้าวมันไก่', 'จำได้', 'ชื่อ', 'ตตี้', 'ตัดกำลัง', 'ตู้', 'นิว', 'บางส่วน', 'ปรุง', 'รู้จัก', 'ลี', 'สปา', 'สุก', 'เก', '😆', '🤣', '128', '255', '29', 'ครีม', 'จบ', 'จุก', 'ชาต', 'บรา', 'บุพ', 'ปิดท้าย', 'ย', 'วิป', 'สมราคา', 'สวย', 'เ', 'เซต', 'เด็ด', 'เป้ง', 'เฟ่', 'เรย', 'เริส', 'เเบบ', 'โชค', '7', 'ทดแทน', 'ปรกติ', 'สดๆ ร้อนๆ', 'เงินสด', 'โดยเฉพาะ'])\n"
     ]
    },
    {
     "name": "stderr",
     "output_type": "stream",
     "text": [
      "C:\\Users\\User\\anaconda3\\lib\\site-packages\\ipykernel\\ipkernel.py:287: DeprecationWarning: `should_run_async` will not call `transform_cell` automatically in the future. Please pass the result to `transformed_cell` argument and any exception that happen during thetransform in `preprocessing_exc_tuple` in IPython 7.17 and above.\n",
      "  and should_run_async(code)\n"
     ]
    }
   ],
   "source": [
    "documents = df['Review_tokenized'].to_list()\n",
    "texts = [[text for text in doc.split(',')] for doc in documents]\n",
    "dictionary = gensim.corpora.Dictionary(texts)\n",
    "print(dictionary.token2id.keys())"
   ]
  },
  {
   "cell_type": "code",
   "execution_count": 37,
   "metadata": {},
   "outputs": [
    {
     "name": "stdout",
     "output_type": "stream",
     "text": [
      "[[(0, 5), (1, 1), (2, 1), (3, 1), (4, 5), (5, 1), (6, 1), (7, 1), (8, 1), (9, 1), (10, 1), (11, 1), (12, 1), (13, 2), (14, 1), (15, 1), (16, 1), (17, 1), (18, 1), (19, 1), (20, 3), (21, 1), (22, 2), (23, 1), (24, 1), (25, 1), (26, 3), (27, 1), (28, 1), (29, 1), (30, 1), (31, 1), (32, 3), (33, 1), (34, 3), (35, 1), (36, 1), (37, 1), (38, 2), (39, 1), (40, 1), (41, 1), (42, 1), (43, 1), (44, 1), (45, 1), (46, 1), (47, 1), (48, 1), (49, 12)], [(0, 27), (8, 1), (13, 2), (17, 1), (20, 2), (23, 1), (34, 1), (50, 1), (51, 1), (52, 1), (53, 1), (54, 1), (55, 1), (56, 1), (57, 1), (58, 1), (59, 1), (60, 1), (61, 1), (62, 1), (63, 1), (64, 1), (65, 1), (66, 1), (67, 1), (68, 1), (69, 1), (70, 1), (71, 1), (72, 1), (73, 1), (74, 1), (75, 1), (76, 3), (77, 1), (78, 1), (79, 1), (80, 1), (81, 1), (82, 1), (83, 1), (84, 1), (85, 1), (86, 1), (87, 1)], [(0, 72), (4, 1), (9, 1), (11, 5), (12, 3), (18, 8), (19, 2), (23, 1), (26, 3), (27, 1), (28, 1), (32, 4), (38, 3), (39, 2), (48, 2), (59, 3), (60, 1), (88, 6), (89, 3), (90, 1), (91, 1), (92, 1), (93, 1), (94, 1), (95, 1), (96, 1), (97, 1), (98, 1), (99, 1), (100, 1), (101, 1), (102, 1), (103, 2), (104, 1), (105, 1), (106, 1), (107, 1), (108, 1), (109, 1), (110, 1), (111, 1), (112, 1), (113, 1), (114, 1), (115, 4), (116, 1), (117, 2), (118, 1), (119, 1), (120, 1), (121, 1), (122, 1), (123, 1), (124, 1), (125, 1), (126, 1), (127, 1), (128, 2), (129, 1), (130, 1), (131, 1), (132, 1), (133, 1), (134, 3), (135, 1), (136, 1), (137, 1), (138, 1), (139, 2), (140, 1), (141, 1), (142, 1), (143, 1), (144, 3), (145, 1), (146, 2), (147, 1), (148, 1), (149, 4), (150, 2), (151, 1), (152, 3), (153, 1), (154, 1), (155, 1), (156, 1), (157, 1), (158, 1), (159, 2), (160, 1), (161, 1), (162, 3), (163, 1), (164, 2), (165, 2), (166, 2), (167, 1)], [(0, 15), (2, 1), (27, 1), (32, 1), (38, 2), (59, 1), (66, 2), (85, 1), (86, 1), (89, 1), (103, 2), (104, 1), (115, 1), (125, 2), (134, 1), (136, 1), (168, 1), (169, 1), (170, 1), (171, 1), (172, 1), (173, 1), (174, 1), (175, 2), (176, 1), (177, 1), (178, 1), (179, 1), (180, 1)], [(0, 18), (4, 1), (18, 1), (20, 1), (31, 1), (32, 1), (38, 2), (54, 1), (59, 2), (76, 2), (89, 1), (110, 1), (116, 2), (121, 1), (134, 1), (149, 2), (177, 1), (181, 1), (182, 1), (183, 1), (184, 2), (185, 1), (186, 1), (187, 1), (188, 1), (189, 1), (190, 1), (191, 1), (192, 1), (193, 1), (194, 1), (195, 1), (196, 1), (197, 1), (198, 1)], [(0, 8), (9, 1), (13, 1), (19, 1), (23, 1), (32, 1), (38, 1), (48, 1), (59, 1), (60, 1), (94, 1), (103, 2), (121, 1), (128, 1), (134, 1), (144, 1), (146, 1), (149, 1), (156, 1), (199, 1), (200, 1), (201, 1), (202, 1), (203, 1), (204, 1), (205, 1), (206, 1), (207, 1), (208, 1), (209, 1), (210, 1)], [(0, 26), (12, 2), (18, 3), (19, 2), (21, 1), (26, 1), (27, 1), (34, 1), (36, 1), (38, 1), (59, 2), (60, 1), (73, 1), (76, 1), (85, 4), (90, 1), (115, 1), (121, 1), (149, 2), (200, 1), (202, 1), (204, 1), (205, 1), (211, 1), (212, 2), (213, 1), (214, 1), (215, 1), (216, 1), (217, 1), (218, 1), (219, 1), (220, 1), (221, 1), (222, 1), (223, 1), (224, 1), (225, 1), (226, 1), (227, 1), (228, 1), (229, 1), (230, 1), (231, 1), (232, 2), (233, 1), (234, 1), (235, 1), (236, 1), (237, 1), (238, 1), (239, 1), (240, 1), (241, 1), (242, 1), (243, 1), (244, 1)], [(0, 11), (4, 1), (7, 1), (11, 2), (13, 1), (14, 3), (18, 3), (19, 1), (21, 1), (26, 2), (27, 1), (30, 1), (38, 1), (59, 2), (98, 1), (103, 1), (104, 1), (139, 1), (143, 1), (150, 1), (235, 1), (245, 1), (246, 1), (247, 1), (248, 1), (249, 1), (250, 1), (251, 1), (252, 1), (253, 1), (254, 1), (255, 1), (256, 1), (257, 1), (258, 1), (259, 1), (260, 1), (261, 1), (262, 1), (263, 1), (264, 1), (265, 2), (266, 1), (267, 1), (268, 1)], [(0, 16), (9, 2), (21, 1), (27, 1), (34, 3), (115, 1), (120, 1), (239, 1), (269, 1), (270, 1), (271, 1), (272, 1), (273, 1), (274, 1), (275, 1), (276, 1), (277, 1), (278, 1), (279, 1), (280, 1), (281, 1), (282, 1), (283, 1), (284, 1), (285, 1), (286, 1), (287, 1), (288, 1), (289, 1), (290, 1), (291, 1), (292, 1), (293, 1), (294, 1)], [(0, 9), (9, 1), (48, 1), (59, 2), (103, 1), (115, 3), (130, 1), (163, 1), (239, 1), (271, 4), (274, 1), (275, 1), (280, 4), (282, 4), (289, 4), (295, 1), (296, 1), (297, 1), (298, 1), (299, 1), (300, 1), (301, 1), (302, 1), (303, 1), (304, 2), (305, 1), (306, 1), (307, 1), (308, 1), (309, 1), (310, 1), (311, 1), (312, 1), (313, 1), (314, 1), (315, 1), (316, 1), (317, 1), (318, 1), (319, 1)], [(0, 18), (2, 1), (9, 1), (11, 1), (13, 1), (18, 1), (21, 1), (27, 1), (38, 1), (59, 1), (115, 3), (125, 1), (132, 1), (149, 1), (225, 1), (270, 1), (271, 1), (274, 1), (275, 1), (278, 1), (280, 1), (282, 1), (289, 1), (318, 1), (320, 1), (321, 1), (322, 1), (323, 1), (324, 1), (325, 1), (326, 1), (327, 1), (328, 1), (329, 1), (330, 1), (331, 1), (332, 1), (333, 1)], [(0, 108), (1, 3), (4, 9), (8, 1), (9, 1), (13, 5), (18, 1), (23, 1), (26, 2), (27, 1), (32, 1), (34, 3), (38, 3), (44, 1), (48, 1), (59, 1), (65, 2), (76, 3), (87, 1), (94, 1), (99, 1), (101, 1), (110, 1), (115, 1), (117, 3), (127, 2), (132, 7), (136, 1), (139, 2), (172, 2), (180, 1), (189, 1), (191, 1), (201, 2), (209, 1), (215, 1), (219, 1), (221, 5), (225, 1), (235, 1), (238, 1), (239, 1), (251, 2), (263, 1), (271, 7), (274, 1), (275, 1), (277, 1), (279, 1), (280, 1), (282, 1), (284, 1), (289, 1), (290, 1), (303, 3), (304, 1), (311, 1), (314, 1), (322, 3), (328, 2), (332, 1), (334, 2), (335, 1), (336, 2), (337, 1), (338, 1), (339, 1), (340, 1), (341, 1), (342, 1), (343, 1), (344, 1), (345, 1), (346, 1), (347, 1), (348, 2), (349, 1), (350, 1), (351, 2), (352, 1), (353, 2), (354, 2), (355, 1), (356, 1), (357, 2), (358, 1), (359, 1), (360, 1), (361, 1), (362, 1), (363, 1), (364, 1), (365, 1), (366, 2), (367, 1), (368, 1), (369, 1), (370, 1), (371, 2), (372, 1), (373, 1), (374, 1), (375, 1), (376, 1), (377, 1), (378, 1), (379, 2), (380, 1), (381, 1), (382, 4), (383, 1), (384, 1), (385, 2), (386, 1), (387, 1), (388, 1), (389, 2), (390, 1), (391, 1), (392, 1), (393, 2), (394, 2), (395, 1), (396, 2), (397, 1), (398, 1), (399, 1), (400, 1), (401, 5), (402, 1), (403, 1), (404, 1), (405, 1), (406, 1), (407, 1), (408, 1), (409, 1), (410, 1), (411, 2), (412, 1), (413, 1), (414, 1), (415, 2), (416, 1), (417, 3), (418, 1), (419, 1)], [(0, 23), (1, 1), (13, 1), (21, 1), (26, 2), (27, 1), (32, 1), (34, 1), (115, 2), (117, 1), (125, 1), (126, 1), (133, 1), (169, 1), (180, 1), (221, 1), (225, 1), (236, 1), (238, 1), (275, 1), (324, 1), (328, 1), (336, 1), (337, 1), (338, 1), (352, 1), (375, 1), (401, 1), (420, 1), (421, 1), (422, 1), (423, 1), (424, 1), (425, 1), (426, 1), (427, 1), (428, 1), (429, 1), (430, 1), (431, 1), (432, 1), (433, 1), (434, 1), (435, 1), (436, 1)], [(0, 17), (4, 3), (13, 1), (21, 1), (23, 1), (27, 1), (38, 1), (76, 1), (87, 1), (121, 2), (132, 1), (149, 1), (186, 1), (193, 1), (208, 1), (219, 1), (221, 3), (238, 1), (274, 1), (284, 1), (292, 1), (293, 1), (338, 1), (340, 1), (347, 1), (348, 2), (351, 1), (352, 1), (354, 2), (369, 1), (371, 3), (389, 1), (400, 1), (437, 1), (438, 1), (439, 1), (440, 1), (441, 1), (442, 2), (443, 1), (444, 1), (445, 1), (446, 1), (447, 1), (448, 1), (449, 1), (450, 1), (451, 1), (452, 1), (453, 1), (454, 1), (455, 1), (456, 1), (457, 1)], [(0, 10), (9, 1), (11, 1), (20, 1), (32, 2), (59, 1), (74, 1), (99, 1), (100, 1), (115, 2), (128, 1), (149, 2), (202, 1), (208, 1), (221, 1), (239, 1), (274, 1), (284, 1), (354, 1), (458, 1), (459, 1), (460, 1), (461, 1), (462, 2), (463, 1), (464, 1), (465, 1), (466, 1), (467, 1), (468, 1), (469, 1), (470, 1)], [(0, 28), (7, 1), (8, 1), (11, 1), (12, 1), (13, 1), (14, 1), (18, 1), (21, 1), (27, 1), (34, 2), (38, 1), (48, 1), (59, 1), (76, 1), (94, 1), (98, 1), (99, 1), (115, 2), (138, 3), (149, 3), (159, 1), (161, 1), (168, 2), (191, 3), (208, 1), (219, 1), (238, 1), (239, 1), (274, 2), (284, 2), (291, 1), (304, 1), (316, 1), (348, 1), (357, 1), (369, 1), (371, 1), (374, 1), (378, 1), (389, 2), (406, 1), (407, 1), (440, 1), (444, 1), (471, 1), (472, 1), (473, 1), (474, 1), (475, 1), (476, 1), (477, 2), (478, 1), (479, 1), (480, 1), (481, 1), (482, 1), (483, 1), (484, 1), (485, 1), (486, 1), (487, 1), (488, 1), (489, 1), (490, 1), (491, 1), (492, 1), (493, 1), (494, 1), (495, 1), (496, 1), (497, 1), (498, 1), (499, 1), (500, 1), (501, 1), (502, 1), (503, 1), (504, 1), (505, 1), (506, 1), (507, 1)], [(0, 39), (1, 1), (2, 1), (9, 1), (11, 4), (13, 1), (18, 3), (21, 4), (26, 2), (27, 3), (38, 1), (59, 1), (76, 2), (89, 1), (94, 1), (95, 2), (115, 2), (128, 1), (134, 1), (140, 1), (141, 1), (170, 2), (172, 1), (209, 1), (219, 1), (231, 1), (235, 1), (238, 1), (239, 1), (275, 1), (285, 1), (304, 1), (307, 1), (330, 1), (331, 1), (352, 1), (369, 1), (382, 1), (448, 1), (508, 2), (509, 1), (510, 1), (511, 1), (512, 1), (513, 1), (514, 1), (515, 1), (516, 1), (517, 1), (518, 1), (519, 1), (520, 1), (521, 1), (522, 1), (523, 1), (524, 2), (525, 1), (526, 1), (527, 1), (528, 1), (529, 1), (530, 1), (531, 1), (532, 1), (533, 1), (534, 1)], [(0, 24), (4, 1), (11, 2), (13, 1), (18, 3), (21, 2), (32, 2), (33, 1), (34, 1), (89, 1), (95, 2), (103, 1), (115, 3), (138, 1), (149, 3), (168, 1), (172, 1), (210, 1), (223, 2), (225, 4), (241, 1), (265, 2), (324, 1), (484, 1), (508, 1), (521, 1), (523, 1), (524, 1), (530, 1), (531, 1), (533, 1), (535, 1), (536, 1), (537, 1), (538, 1), (539, 1), (540, 1), (541, 1), (542, 1), (543, 1), (544, 1), (545, 1), (546, 1), (547, 1), (548, 1), (549, 1), (550, 1), (551, 1), (552, 1), (553, 1), (554, 1), (555, 1), (556, 1), (557, 1), (558, 1)], [(0, 25), (4, 1), (8, 1), (13, 1), (20, 1), (23, 1), (27, 1), (31, 1), (32, 1), (34, 2), (59, 1), (124, 1), (127, 1), (128, 1), (134, 1), (162, 1), (174, 1), (208, 1), (253, 1), (259, 1), (264, 1), (333, 1), (334, 2), (438, 1), (559, 1), (560, 1), (561, 1), (562, 1), (563, 1), (564, 1), (565, 1), (566, 1), (567, 1), (568, 2), (569, 1), (570, 1), (571, 1), (572, 1), (573, 2), (574, 1), (575, 1), (576, 1), (577, 1), (578, 1), (579, 1), (580, 1), (581, 1)], [(0, 17), (13, 2), (14, 1), (18, 1), (27, 1), (32, 3), (48, 1), (56, 1), (91, 1), (94, 3), (98, 1), (117, 1), (121, 1), (125, 1), (162, 1), (188, 1), (192, 1), (202, 2), (205, 2), (210, 1), (211, 2), (212, 1), (235, 1), (302, 1), (349, 1), (427, 1), (485, 1), (524, 1), (582, 1), (583, 1), (584, 1), (585, 1), (586, 1), (587, 1), (588, 1), (589, 1), (590, 1), (591, 1), (592, 1), (593, 1), (594, 1), (595, 1), (596, 1), (597, 1), (598, 1), (599, 1), (600, 1), (601, 1), (602, 1), (603, 1), (604, 1)], [(0, 26), (4, 1), (18, 1), (21, 1), (27, 2), (32, 2), (34, 1), (42, 1), (87, 1), (88, 4), (94, 1), (128, 1), (134, 2), (144, 1), (168, 1), (170, 2), (191, 1), (275, 2), (277, 1), (354, 1), (508, 1), (524, 1), (538, 1), (605, 1), (606, 1), (607, 1), (608, 1), (609, 1), (610, 1)]]\n"
     ]
    },
    {
     "name": "stderr",
     "output_type": "stream",
     "text": [
      "C:\\Users\\User\\anaconda3\\lib\\site-packages\\ipykernel\\ipkernel.py:287: DeprecationWarning: `should_run_async` will not call `transform_cell` automatically in the future. Please pass the result to `transformed_cell` argument and any exception that happen during thetransform in `preprocessing_exc_tuple` in IPython 7.17 and above.\n",
      "  and should_run_async(code)\n"
     ]
    }
   ],
   "source": [
    "gensim_corpus = [dictionary.doc2bow(text, allow_update=True) for text in texts]\n",
    "print(gensim_corpus)"
   ]
  },
  {
   "cell_type": "code",
   "execution_count": 38,
   "metadata": {},
   "outputs": [
    {
     "name": "stdout",
     "output_type": "stream",
     "text": [
      "[[(' ', 5), ('1', 1), ('4', 1), ('560', 1), ('กิน', 5), ('ข้างนอก', 1), ('ความต้องการ', 1), ('คอ', 1), ('คุณภาพ', 1), ('คุ้ม', 1), ('จำกัด', 1), ('ซุป', 1), ('ดำ', 1), ('ดี', 2), ('ดีมาก', 1), ('ถาด', 1), ('ถาม', 1), ('น่ารัก', 1), ('น้ำ', 1), ('น้ำจิ้ม', 1), ('บริการ', 3), ('บาท', 1), ('ประทับใจ', 2), ('พนักงาน', 1), ('พอกับ', 1), ('ภาพ', 1), ('รสชาติ', 3), ('ราคา', 1), ('สรุป', 1), ('สะอาดสะอ้าน', 1), ('สัน', 1), ('หลากหลาย', 1), ('อร่อย', 3), ('อันนี้', 1), ('อาหาร', 3), ('เคลม', 1), ('เซ็ท', 1), ('เต้าเจี้ยว', 1), ('เนื้อ', 2), ('เป็ด', 1), ('เผ็ด', 1), ('แบบนี้', 1), ('แปลก', 1), ('แฟน', 1), ('โดยรวม', 1), ('โมจิ', 1), ('ใส่ใจ', 1), ('ไม่ต้อง', 1), ('ไอติม', 1), ('\\u200b', 12)], [(' ', 27), ('คุณภาพ', 1), ('ดี', 2), ('น่ารัก', 1), ('บริการ', 2), ('พนักงาน', 1), ('อาหาร', 1), ('           ', 1), ('21', 1), ('30', 1), ('9', 1), ('CTW', 1), ('Terminal', 1), ('กา', 1), ('การงด', 1), ('คิดถึง', 1), ('ชาบู', 1), ('ญี่ปุ่น', 1), ('ฐาน', 1), ('ทะยอย', 1), ('ทำงาน', 1), ('ที่ทาง', 1), ('นาที', 1), ('นึกถึง', 1), ('พนักงานบริการ', 1), ('พระราม', 1), ('พรีเมียม', 1), ('พาราไดซ์', 1), ('มาตรา', 1), ('มีโอ', 1), ('รายละเอียด', 1), ('ลูกค้า', 1), ('สมาทาน', 1), ('สาขา', 3), ('สู้', 1), ('ออร์เดอร์', 1), ('เครื่องดื่ม', 1), ('เค้า', 1), ('เจอ', 1), ('เป็นกันเอง', 1), ('เหวี่ยง', 1), ('แจ้ง', 1), ('โม', 1), ('โม่', 1), ('โอเค', 1)], [(' ', 72), ('กิน', 1), ('คุ้ม', 1), ('ซุป', 5), ('ดำ', 3), ('น้ำ', 8), ('น้ำจิ้ม', 2), ('พนักงาน', 1), ('รสชาติ', 3), ('ราคา', 1), ('สรุป', 1), ('อร่อย', 4), ('เนื้อ', 3), ('เป็ด', 2), ('ไอติม', 2), ('ชาบู', 3), ('ญี่ปุ่น', 1), ('', 6), ('2', 3), ('600', 1), ('กก', 1), ('กรุบ', 1), ('กั้น', 1), ('ของหวาน', 1), ('คนละ', 1), ('คาว', 1), ('คุ', 1), ('คุ้มค่า', 1), ('จาน', 1), ('จิ้ม', 1), ('จืด', 1), ('ฉาก', 1), ('ชอบ', 2), ('ชาเขียว', 1), ('ชิ้น', 1), ('ซอย', 1), ('ซอส', 1), ('ตก', 1), ('ตะ', 1), ('ตัก', 1), ('ตามน้ำ', 1), ('ต่างกัน', 1), ('ถั่ว', 1), ('ถ่ายรูป', 1), ('ทาน', 4), ('นั่ง', 1), ('นุ่ม', 2), ('บด', 1), ('บาร์', 1), ('บู', 1), ('ผัก', 1), ('ภาษา', 1), ('มีชื่อ', 1), ('ยังมี', 1), ('รส', 1), ('รี่', 1), ('รู้สึก', 1), ('ลอง', 2), ('ลิ้น', 1), ('ลืม', 1), ('ววว', 1), ('สด', 1), ('สตอ', 1), ('สั่ง', 3), ('สามรส', 1), ('ส่วนตัว', 1), ('หนึบ', 1), ('หม้อ', 1), ('หวาน', 2), ('อยากได้', 1), ('เข้มข้น', 1), ('เข้ากัน', 1), ('เค็ม', 1), ('เนื้อวัว', 3), ('เนื้อสัตว์', 1), ('เนื้อหมู', 2), ('เบอ', 1), ('เป็นผู้ใหญ่', 1), ('เลือก', 4), ('เสิร์ฟ', 2), ('เหนียว', 1), ('เห็ด', 3), ('แดง', 1), ('แตก', 1), ('แตา', 1), ('แนว', 1), ('แย้', 1), ('โควิด', 1), ('โต๊ะ', 2), ('โร', 1), ('ใส', 1), ('ไก่', 3), ('ไข่', 1), ('ไดฟูกุ', 2), ('ไผ่', 2), ('ไม้', 2), ('ไหว', 1)], [(' ', 15), ('4', 1), ('ราคา', 1), ('อร่อย', 1), ('เนื้อ', 2), ('ชาบู', 1), ('นึกถึง', 2), ('โม', 1), ('โม่', 1), ('2', 1), ('ชอบ', 2), ('ชาเขียว', 1), ('ทาน', 1), ('รส', 2), ('สั่ง', 1), ('ส่วนตัว', 1), ('3', 1), ('ข้าว', 1), ('จ่าย', 1), ('ถ้วย', 1), ('ธรรมดา', 1), ('ส', 1), ('ออ', 1), ('เกินไป', 2), ('เลี่ยน', 1), ('โปร', 1), ('โหด', 1), ('ไว', 1), ('ไอศกรีม', 1)], [(' ', 18), ('กิน', 1), ('น้ำ', 1), ('บริการ', 1), ('หลากหลาย', 1), ('อร่อย', 1), ('เนื้อ', 2), ('CTW', 1), ('ชาบู', 2), ('สาขา', 2), ('2', 1), ('ตัก', 1), ('นั่ง', 2), ('ผัก', 1), ('สั่ง', 1), ('เลือก', 2), ('โปร', 1), ('ขนม', 1), ('คุณภาพดี', 1), ('ตัดสินใจ', 1), ('ต่าง ๆ', 2), ('ที่จะ', 1), ('ที่นั่ง', 1), ('บัตรเครดิต', 1), ('มมาก', 1), ('ลูกชิ้น', 1), ('สบายดี', 1), ('หน้า', 1), ('หอ', 1), ('เดิน', 1), ('เด็ก', 1), ('เส้น', 1), ('เหมือนกับ', 1), ('แคบ', 1), ('ได้กลิ่น', 1)], [(' ', 8), ('คุ้ม', 1), ('ดี', 1), ('น้ำจิ้ม', 1), ('พนักงาน', 1), ('อร่อย', 1), ('เนื้อ', 1), ('ไอติม', 1), ('ชาบู', 1), ('ญี่ปุ่น', 1), ('ของหวาน', 1), ('ชอบ', 2), ('ผัก', 1), ('ลอง', 1), ('สั่ง', 1), ('เนื้อวัว', 1), ('เนื้อหมู', 1), ('เลือก', 1), ('แนว', 1), ('คามี', 1), ('ซึ', 1), ('นะคะ', 1), ('บุ', 1), ('บ๋วย', 1), ('พอน', 1), ('ฟเฟ่', 1), ('รา', 1), ('สาย', 1), ('หยิบ', 1), ('โซน', 1), ('โปรโมชั่น', 1)], [(' ', 26), ('ดำ', 2), ('น้ำ', 3), ('น้ำจิ้ม', 2), ('บาท', 1), ('รสชาติ', 1), ('ราคา', 1), ('อาหาร', 1), ('เซ็ท', 1), ('เนื้อ', 1), ('ชาบู', 2), ('ญี่ปุ่น', 1), ('รายละเอียด', 1), ('สาขา', 1), ('โม', 4), ('600', 1), ('ทาน', 1), ('ผัก', 1), ('เลือก', 2), ('ซึ', 1), ('บุ', 1), ('พอน', 1), ('ฟเฟ่', 1), ('+', 1), ('/', 2), ('20', 1), ('4.0', 1), ('5', 1), ('Menu', 1), ('Number', 1), ('กรรมวิธี', 1), ('กะปิ', 1), ('ก์', 1), ('คน', 1), ('คะแนน', 1), ('ชุด', 1), ('ดังเดิม', 1), ('บุฟเฟ่ต์', 1), ('ประ', 1), ('พารา', 1), ('มอ', 1), ('ยุค', 1), ('ร้านอาหาร', 1), ('ล', 1), ('สุกี้', 2), ('สไตล์', 1), ('ส์', 1), ('หมู', 1), ('หลาก', 1), ('หลายชนิด', 1), ('เดอะ', 1), ('เมนู', 1), ('แบบฉบับ', 1), ('แบ่ง', 1), ('ได', 1), ('ไทย', 1), ('–', 1)], [(' ', 11), ('กิน', 1), ('คอ', 1), ('ซุป', 2), ('ดี', 1), ('ดีมาก', 3), ('น้ำ', 3), ('น้ำจิ้ม', 1), ('บาท', 1), ('รสชาติ', 2), ('ราคา', 1), ('สัน', 1), ('เนื้อ', 1), ('ชาบู', 2), ('คุ้มค่า', 1), ('ชอบ', 1), ('ชาเขียว', 1), ('หวาน', 1), ('เค็ม', 1), ('เสิร์ฟ', 1), ('หมู', 1), ('!!!!', 1), ('500', 1), ('กาแฟ', 1), ('งวด', 1), ('ตอนที่', 1), ('ตำ', 1), ('ติด', 1), ('ทั่วไป', 1), ('น', 1), ('บ๊วย', 1), ('ยุ', 1), ('ร้อน', 1), ('ลุย', 1), ('สุกี้ยากี้', 1), ('อยู่แล้ว', 1), ('ออสเตรเลีย', 1), ('เป็นปกติ', 1), ('เฟรนไชส์', 1), ('เรื่อง', 1), ('เหมาะสม', 1), ('แนะนำ', 2), ('โช', 1), ('ไข่ไก่', 1), ('ไอศครีม', 1)], [(' ', 16), ('คุ้ม', 2), ('บาท', 1), ('ราคา', 1), ('อาหาร', 3), ('ทาน', 1), ('บู', 1), ('เมนู', 1), ('..', 1), ('399', 1), ('กุ้ง', 1), ('ของกิน', 1), ('ขา', 1), ('ชิ', 1), ('ซูชิ', 1), ('ซ่า', 1), ('ตอน', 1), ('ตอนนี้', 1), ('นิดนึง', 1), ('ปุระ', 1), ('ปูอัด', 1), ('ม', 1), ('ละลานตา', 1), ('สายพาน', 1), ('หิว', 1), ('ฮ่า', 1), ('าน', 1), ('เกี๊ยว', 1), ('เท', 1), ('เทียบ', 1), ('เล่น', 1), ('แพง', 1), ('แล้วก็', 1), ('ไม่งั้น', 1)], [(' ', 9), ('คุ้ม', 1), ('ไอติม', 1), ('ชาบู', 2), ('ชอบ', 1), ('ทาน', 3), ('ลืม', 1), ('ไข่', 1), ('เมนู', 1), ('กุ้ง', 4), ('ชิ', 1), ('ซูชิ', 1), ('ปุระ', 4), ('ม', 4), ('เท', 4), ('กลาย', 1), ('กี่', 1), ('ชั่วคราว', 1), ('ชื่นใจ', 1), ('ซะงั้น', 1), ('ญี่', 1), ('ดึก', 1), ('ตบท้าย', 1), ('ตัว', 1), ('ทอด', 2), ('ทานอาหาร', 1), ('นพ', 1), ('นึก', 1), ('น้ะ', 1), ('ปลา', 1), ('ปุ', 1), ('ผิดหวัง', 1), ('วก', 1), ('สมใจ', 1), ('อย่า', 1), ('อาหารเสริม', 1), ('เติม', 1), ('เป็นมา', 1), ('เป็นหลัก', 1), ('เย็น', 1)], [(' ', 18), ('4', 1), ('คุ้ม', 1), ('ซุป', 1), ('ดี', 1), ('น้ำ', 1), ('บาท', 1), ('ราคา', 1), ('เนื้อ', 1), ('ชาบู', 1), ('ทาน', 3), ('รส', 1), ('สด', 1), ('เลือก', 1), ('บุฟเฟ่ต์', 1), ('399', 1), ('กุ้ง', 1), ('ชิ', 1), ('ซูชิ', 1), ('ตอนนี้', 1), ('ปุระ', 1), ('ม', 1), ('เท', 1), ('เป็นหลัก', 1), ('1.15', 1), ('net', 1), ('กลับมา', 1), ('ของคาว', 1), ('ชม.', 1), ('ตรงนั้น', 1), ('ยืน', 1), ('ลายตา', 1), ('สไลด์', 1), ('อัพเดท', 1), ('อิ่ม', 1), ('เบ', 1), ('เพลิน', 1), ('ไลน์', 1)], [(' ', 108), ('1', 3), ('กิน', 9), ('คุณภาพ', 1), ('คุ้ม', 1), ('ดี', 5), ('น้ำ', 1), ('พนักงาน', 1), ('รสชาติ', 2), ('ราคา', 1), ('อร่อย', 1), ('อาหาร', 3), ('เนื้อ', 3), ('โดยรวม', 1), ('ไอติม', 1), ('ชาบู', 1), ('นาที', 2), ('สาขา', 3), ('โอเค', 1), ('ของหวาน', 1), ('จาน', 1), ('จืด', 1), ('ตัก', 1), ('ทาน', 1), ('นุ่ม', 3), ('รู้สึก', 2), ('สด', 7), ('ส่วนตัว', 1), ('หวาน', 2), ('ธรรมดา', 2), ('ไอศกรีม', 1), ('ลูกชิ้น', 1), ('หน้า', 1), ('นะคะ', 2), ('โซน', 1), ('5', 1), ('กะปิ', 1), ('คน', 5), ('บุฟเฟ่ต์', 1), ('หมู', 1), ('เดอะ', 1), ('เมนู', 1), ('ติด', 2), ('เรื่อง', 1), ('กุ้ง', 7), ('ชิ', 1), ('ซูชิ', 1), ('ตอน', 1), ('นิดนึง', 1), ('ปุระ', 1), ('ม', 1), ('สายพาน', 1), ('เท', 1), ('เทียบ', 1), ('ตัว', 3), ('ทอด', 1), ('ผิดหวัง', 1), ('อย่า', 1), ('กลับมา', 3), ('สไลด์', 2), ('เพลิน', 1), ('\"', 2), ('/คน', 1), ('15', 2), ('359', 1), ('G', 1), ('Net', 1), ('Shabushi', 1), ('กด', 1), ('กรอ', 1), ('ขาดสารอาหาร', 1), ('ขึ้นราคา', 1), ('ข่าว', 1), ('คนเดียว', 1), ('ครึ่ง', 1), ('คิว', 2), ('งาน', 1), ('จุ', 1), ('ชั่วโมง', 2), ('ชั้น', 1), ('ชื่น', 2), ('ดู', 2), ('ตลับ', 1), ('ตับ', 1), ('ตั้งอยู่', 2), ('ติง', 1), ('ถนนใหญ่', 1), ('ถูกใจ', 1), ('ทำ', 1), ('ทิ้ง', 1), ('น้ำมัน', 1), ('บดี', 1), ('ปลาดิบ', 1), ('ปอกเปลือก', 2), ('ฝรั่ง', 1), ('ฝั่ง', 1), ('มอลล์', 1), ('มื้อ', 1), ('รอ', 2), ('ระดับ', 1), ('รายการ', 1), ('ลด', 1), ('ลา', 1), ('ลูก', 1), ('วันหยุด', 1), ('วาง', 1), ('วานิลา', 2), ('สะอาด', 1), ('สาเหตุ', 1), ('สำหรับ', 4), ('สไปรท์', 1), ('หนา', 1), ('หอม', 2), ('หอย', 1), ('หาไม่', 1), ('ห่างหาย', 1), ('ห้าง', 2), ('อม', 1), ('ออกมา', 1), ('อาทิตย์', 1), ('อีกครั้ง', 2), ('เช็คบิล', 2), ('เด่น', 1), ('เด้ง', 2), ('เบคอน', 1), ('เปรี้ยวหวาน', 1), ('เพื่อน', 1), ('เลิก', 1), ('เวลา', 5), ('เสาร์', 1), ('เหมือน', 1), ('เหมือนกัน', 1), ('แก้ว', 1), ('แถม', 1), ('แน่น', 1), ('แป้ง', 1), ('แย่', 1), ('แออัด', 1), ('โดน', 2), ('โดยประมาณ', 1), ('โฟลต', 1), ('โอ', 1), ('ใจดี', 2), ('ใจมา', 1), ('ใช้ได้', 3), ('ใส่', 1), ('ได้ยิน', 1)], [(' ', 23), ('1', 1), ('ดี', 1), ('บาท', 1), ('รสชาติ', 2), ('ราคา', 1), ('อร่อย', 1), ('อาหาร', 1), ('ทาน', 2), ('นุ่ม', 1), ('รส', 1), ('รี่', 1), ('สตอ', 1), ('ข้าว', 1), ('ไอศกรีม', 1), ('คน', 1), ('บุฟเฟ่ต์', 1), ('หลาก', 1), ('เดอะ', 1), ('ซูชิ', 1), ('ชม.', 1), ('สไลด์', 1), ('15', 1), ('359', 1), ('G', 1), ('ชั้น', 1), ('ลา', 1), ('เวลา', 1), ('ชอค', 1), ('ต', 1), ('นัด', 1), ('นิ', 1), ('มะนาว', 1), ('มุ', 1), ('ลงเอย', 1), ('ว', 1), ('วันก่อน', 1), ('ห', 1), ('หา', 1), ('อยุ่', 1), ('อาหารสด', 1), ('เบอร์', 1), ('แกงค์', 1), ('แล', 1), ('โก', 1)], [(' ', 17), ('กิน', 3), ('ดี', 1), ('บาท', 1), ('พนักงาน', 1), ('ราคา', 1), ('เนื้อ', 1), ('สาขา', 1), ('โอเค', 1), ('ผัก', 2), ('สด', 1), ('เลือก', 1), ('ที่นั่ง', 1), ('เดิน', 1), ('หยิบ', 1), ('กะปิ', 1), ('คน', 3), ('เดอะ', 1), ('ชิ', 1), ('สายพาน', 1), ('แพง', 1), ('แล้วก็', 1), ('G', 1), ('Shabushi', 1), ('ครึ่ง', 1), ('คิว', 2), ('ชั่วโมง', 1), ('ชั้น', 1), ('ดู', 2), ('มอลล์', 1), ('รอ', 3), ('ห้าง', 1), ('เลิก', 1), ('กินที่', 1), ('ขยัน', 1), ('จอง', 1), ('ชู', 1), ('ณ์', 1), ('บุฟเฟต์', 2), ('ป', 1), ('ประตู', 1), ('พลาด', 1), ('พอได้', 1), ('พี่', 1), ('รอบ', 1), ('ร้อย', 1), ('สาม', 1), ('สุดท้าย', 1), ('หลายครั้ง', 1), ('หล่ะ', 1), ('อาราม', 1), ('เข้าหน้า', 1), ('เต็ม', 1), ('โชคดี', 1)], [(' ', 10), ('คุ้ม', 1), ('ซุป', 1), ('บริการ', 1), ('อร่อย', 2), ('ชาบู', 1), ('ลูกค้า', 1), ('จาน', 1), ('จิ้ม', 1), ('ทาน', 2), ('ลอง', 1), ('เลือก', 2), ('บุ', 1), ('หยิบ', 1), ('คน', 1), ('เมนู', 1), ('ชิ', 1), ('สายพาน', 1), ('ดู', 1), ('ขวัญใจ', 1), ('ข้อดี', 1), ('ต้องการ', 1), ('ทั่วถึง', 1), ('นํ้า', 2), ('บ', 1), ('ฟเฟ', 1), ('มี่', 1), ('ระบบ', 1), ('รีวิว', 1), ('สวัสดี', 1), ('เก้', 1), ('ใช้แล้ว', 1)], [(' ', 28), ('คอ', 1), ('คุณภาพ', 1), ('ซุป', 1), ('ดำ', 1), ('ดี', 1), ('ดีมาก', 1), ('น้ำ', 1), ('บาท', 1), ('ราคา', 1), ('อาหาร', 2), ('เนื้อ', 1), ('ไอติม', 1), ('ชาบู', 1), ('สาขา', 1), ('ของหวาน', 1), ('คุ้มค่า', 1), ('จาน', 1), ('ทาน', 2), ('หม้อ', 3), ('เลือก', 3), ('โต๊ะ', 1), ('ใส', 1), ('3', 2), ('หน้า', 3), ('หยิบ', 1), ('กะปิ', 1), ('เดอะ', 1), ('เมนู', 1), ('ชิ', 2), ('สายพาน', 2), ('เล่น', 1), ('ทอด', 1), ('เติม', 1), ('คิว', 1), ('ตั้งอยู่', 1), ('มอลล์', 1), ('รอ', 1), ('ลด', 1), ('วาง', 1), ('ห้าง', 2), ('แถม', 1), ('แน่น', 1), ('ชู', 1), ('ประตู', 1), ('^^', 1), ('xx', 1), ('กลยุทธ์', 1), ('ขนาด', 1), ('ข้น', 1), ('ข้าวปั้น', 1), ('ค่า', 2), ('ชอป', 1), ('ซุ้ม', 1), ('ดีขึ้น', 1), ('ตรงข้าม', 1), ('ตรงนี้', 1), ('ต้ม', 1), ('ต้มยำ', 1), ('ท่าน', 1), ('นัล', 1), ('บริเวณ', 1), ('บัตรสมาชิก', 1), ('ปรับปรุง', 1), ('มันดี', 1), ('มากขึ้น', 1), ('ยอด', 1), ('ลาน', 1), ('สลัด', 1), ('หมู่คณะ', 1), ('ออกร้าน', 1), ('อิอิ', 1), ('เครือ', 1), ('เคลื่อนตัว', 1), ('เคาน์เตอร์', 1), ('เบา', 1), ('เป็นแนว', 1), ('แมค', 1), ('โชคชะตา', 1), ('โด', 1), ('โน้น', 1), ('โออิชิ', 1)], [(' ', 39), ('1', 1), ('4', 1), ('คุ้ม', 1), ('ซุป', 4), ('ดี', 1), ('น้ำ', 3), ('บาท', 4), ('รสชาติ', 2), ('ราคา', 3), ('เนื้อ', 1), ('ชาบู', 1), ('สาขา', 2), ('2', 1), ('ของหวาน', 1), ('คนละ', 2), ('ทาน', 2), ('ลอง', 1), ('สั่ง', 1), ('อยากได้', 1), ('เข้มข้น', 1), ('จ่าย', 2), ('ธรรมดา', 1), ('โซน', 1), ('กะปิ', 1), ('ล', 1), ('หมู', 1), ('เดอะ', 1), ('เมนู', 1), ('ซูชิ', 1), ('หิว', 1), ('ทอด', 1), ('นึก', 1), ('อิ่ม', 1), ('เบ', 1), ('ชั้น', 1), ('มอลล์', 1), ('สำหรับ', 1), ('รอบ', 1), ('199', 2), ('39', 1), ('40', 1), ('49', 1), ('HALL', 1), ('MCC', 1), ('ค่ายมวย', 1), ('ด้านใน', 1), ('ตอนแรก', 1), ('ตัวเลือก', 1), ('ติดกับ', 1), ('ที่ไหนได้', 1), ('นม', 1), ('นา', 1), ('น้ำดื่ม', 1), ('พิซ', 1), ('พิซซ่า', 2), ('ฟี', 1), ('ยู', 1), ('รี', 1), ('หลังจากที่', 1), ('อลล์', 1), ('อเรีย', 1), ('เซ', 1), ('แกงเขียวหวาน', 1), ('แน่นอน', 1), ('แวะ', 1)], [(' ', 24), ('กิน', 1), ('ซุป', 2), ('ดี', 1), ('น้ำ', 3), ('บาท', 2), ('อร่อย', 2), ('อันนี้', 1), ('อาหาร', 1), ('2', 1), ('คนละ', 2), ('ชอบ', 1), ('ทาน', 3), ('หม้อ', 1), ('เลือก', 3), ('3', 1), ('ธรรมดา', 1), ('โปรโมชั่น', 1), ('ชุด', 2), ('บุฟเฟ่ต์', 4), ('แบ่ง', 1), ('แนะนำ', 2), ('ชม.', 1), ('ต้มยำ', 1), ('199', 1), ('นา', 1), ('พิซ', 1), ('พิซซ่า', 1), ('อเรีย', 1), ('เซ', 1), ('แน่นอน', 1), ('10', 1), ('300', 1), ('6', 1), ('VAT', 1), ('กำ', 1), ('ค่าน้ำ', 1), ('ช่อง', 1), ('ซี', 1), ('ซึป', 1), ('ถูกหวย', 1), ('ทอน', 1), ('นึง', 1), ('ฟรี', 1), ('ฟู้ด', 1), ('รับประกัน', 1), ('ลอตเตอรี่', 1), ('สัปดาห์', 1), ('หวย', 1), ('หัว', 1), ('ฮัน', 1), ('เงิน', 1), ('แลก', 1), ('โทส', 1), ('ได้เวลา', 1)], [(' ', 25), ('กิน', 1), ('คุณภาพ', 1), ('ดี', 1), ('บริการ', 1), ('พนักงาน', 1), ('ราคา', 1), ('หลากหลาย', 1), ('อร่อย', 1), ('อาหาร', 2), ('ชาบู', 1), ('ยังมี', 1), ('รู้สึก', 1), ('ลอง', 1), ('สั่ง', 1), ('ไก่', 1), ('ออ', 1), ('หยิบ', 1), ('น', 1), ('อยู่แล้ว', 1), ('เหมาะสม', 1), ('ไลน์', 1), ('\"', 2), ('ขยัน', 1), ('Narai', 1), ('mall', 1), ('pizza', 1), ('pizzeria', 1), ('union', 1), ('ของสด', 1), ('ขึ้นใจ', 1), ('ข้าวมันไก่', 1), ('จำได้', 1), ('ชื่อ', 2), ('ตตี้', 1), ('ตัดกำลัง', 1), ('ตู้', 1), ('นิว', 1), ('บางส่วน', 2), ('ปรุง', 1), ('รู้จัก', 1), ('ลี', 1), ('สปา', 1), ('สุก', 1), ('เก', 1), ('😆', 1), ('🤣', 1)], [(' ', 17), ('ดี', 2), ('ดีมาก', 1), ('น้ำ', 1), ('ราคา', 1), ('อร่อย', 3), ('ไอติม', 1), ('กา', 1), ('กก', 1), ('ของหวาน', 3), ('คุ้มค่า', 1), ('นุ่ม', 1), ('ผัก', 1), ('รส', 1), ('ไก่', 1), ('มมาก', 1), ('หอ', 1), ('บุ', 2), ('ฟเฟ่', 2), ('โปรโมชั่น', 1), ('+', 2), ('/', 1), ('หมู', 1), ('ตบท้าย', 1), ('งาน', 1), ('ว', 1), ('ท่าน', 1), ('พิซซ่า', 1), ('128', 1), ('255', 1), ('29', 1), ('ครีม', 1), ('จบ', 1), ('จุก', 1), ('ชาต', 1), ('บรา', 1), ('บุพ', 1), ('ปิดท้าย', 1), ('ย', 1), ('วิป', 1), ('สมราคา', 1), ('สวย', 1), ('เ', 1), ('เซต', 1), ('เด็ด', 1), ('เป้ง', 1), ('เฟ่', 1), ('เรย', 1), ('เริส', 1), ('เเบบ', 1), ('โชค', 1)], [(' ', 26), ('กิน', 1), ('น้ำ', 1), ('บาท', 1), ('ราคา', 2), ('อร่อย', 2), ('อาหาร', 1), ('แปลก', 1), ('โอเค', 1), ('', 4), ('ของหวาน', 1), ('ลอง', 1), ('สั่ง', 2), ('เนื้อวัว', 1), ('3', 1), ('จ่าย', 2), ('หน้า', 1), ('ซูชิ', 2), ('ตอน', 1), ('ดู', 1), ('199', 1), ('พิซซ่า', 1), ('VAT', 1), ('7', 1), ('ทดแทน', 1), ('ปรกติ', 1), ('สดๆ ร้อนๆ', 1), ('เงินสด', 1), ('โดยเฉพาะ', 1)]]\n"
     ]
    },
    {
     "name": "stderr",
     "output_type": "stream",
     "text": [
      "C:\\Users\\User\\anaconda3\\lib\\site-packages\\ipykernel\\ipkernel.py:287: DeprecationWarning: `should_run_async` will not call `transform_cell` automatically in the future. Please pass the result to `transformed_cell` argument and any exception that happen during thetransform in `preprocessing_exc_tuple` in IPython 7.17 and above.\n",
      "  and should_run_async(code)\n"
     ]
    }
   ],
   "source": [
    "word_frequencies = [[(dictionary[id], frequence) for id, frequence in couple] for couple in gensim_corpus]\n",
    "print(word_frequencies)"
   ]
  },
  {
   "cell_type": "code",
   "execution_count": 46,
   "metadata": {},
   "outputs": [
    {
     "name": "stderr",
     "output_type": "stream",
     "text": [
      "C:\\Users\\User\\anaconda3\\lib\\site-packages\\ipykernel\\ipkernel.py:287: DeprecationWarning: `should_run_async` will not call `transform_cell` automatically in the future. Please pass the result to `transformed_cell` argument and any exception that happen during thetransform in `preprocessing_exc_tuple` in IPython 7.17 and above.\n",
      "  and should_run_async(code)\n"
     ]
    }
   ],
   "source": [
    "num_topics = 4\n",
    "chunksize = 1000 # size of the doc looked at every pass\n",
    "passes = 20 # number of passes through documents\n",
    "iterations = 50\n",
    "eval_every = 1  # Don't evaluate model perplexity, takes too much time.\n",
    "\n",
    "temp = dictionary[0]  # This is only to \"load\" the dictionary.\n",
    "id2word = dictionary.id2token\n",
    "\n",
    "model = gensim.models.LdaModel(corpus=gensim_corpus, id2word=id2word, chunksize=chunksize, \\\n",
    "                       alpha='auto', eta='auto', \\\n",
    "                       iterations=iterations, num_topics=num_topics, \\\n",
    "                       passes=passes, eval_every=eval_every)"
   ]
  },
  {
   "cell_type": "code",
   "execution_count": 47,
   "metadata": {},
   "outputs": [
    {
     "name": "stderr",
     "output_type": "stream",
     "text": [
      "C:\\Users\\User\\anaconda3\\lib\\site-packages\\ipykernel\\ipkernel.py:287: DeprecationWarning: `should_run_async` will not call `transform_cell` automatically in the future. Please pass the result to `transformed_cell` argument and any exception that happen during thetransform in `preprocessing_exc_tuple` in IPython 7.17 and above.\n",
      "  and should_run_async(code)\n"
     ]
    }
   ],
   "source": [
    "df['topics'] = df['Review_tokenized'].apply(lambda x: model.get_document_topics(dictionary.doc2bow(x.split(',')))[0][0])\n",
    "df['score'] = df['Review_tokenized'].apply(lambda x: model.get_document_topics(dictionary.doc2bow(x.split(',')))[0][1])"
   ]
  },
  {
   "cell_type": "code",
   "execution_count": 48,
   "metadata": {
    "scrolled": true
   },
   "outputs": [
    {
     "name": "stderr",
     "output_type": "stream",
     "text": [
      "C:\\Users\\User\\anaconda3\\lib\\site-packages\\ipykernel\\ipkernel.py:287: DeprecationWarning: `should_run_async` will not call `transform_cell` automatically in the future. Please pass the result to `transformed_cell` argument and any exception that happen during thetransform in `preprocessing_exc_tuple` in IPython 7.17 and above.\n",
      "  and should_run_async(code)\n"
     ]
    },
    {
     "data": {
      "text/html": [
       "<div>\n",
       "<style scoped>\n",
       "    .dataframe tbody tr th:only-of-type {\n",
       "        vertical-align: middle;\n",
       "    }\n",
       "\n",
       "    .dataframe tbody tr th {\n",
       "        vertical-align: top;\n",
       "    }\n",
       "\n",
       "    .dataframe thead th {\n",
       "        text-align: right;\n",
       "    }\n",
       "</style>\n",
       "<table border=\"1\" class=\"dataframe\">\n",
       "  <thead>\n",
       "    <tr style=\"text-align: right;\">\n",
       "      <th></th>\n",
       "      <th>Review ID</th>\n",
       "      <th>Restaurant_ID</th>\n",
       "      <th>Restaurant</th>\n",
       "      <th>User</th>\n",
       "      <th>Headline</th>\n",
       "      <th>Review</th>\n",
       "      <th>Rating</th>\n",
       "      <th>Review_tokenized</th>\n",
       "      <th>topics</th>\n",
       "      <th>score</th>\n",
       "    </tr>\n",
       "  </thead>\n",
       "  <tbody>\n",
       "    <tr>\n",
       "      <th>0</th>\n",
       "      <td>1</td>\n",
       "      <td>352696Px-mo-mo-paradise-เดอะมอลล์-บางกะปิ</td>\n",
       "      <td>Mo-Mo-Paradise (โม โม พาราไดซ์) เดอะมอลล์ บางกะปิ</td>\n",
       "      <td>7b16469831074f7abc7824745ee75212</td>\n",
       "      <td>ที่สำคัญของร้านนี้คือบริการดีมากพนักงานน่ารักส...</td>\n",
       "      <td>ที่สำคัญของร้านนี้คือบริการดีมากพนักงานน่ารักส...</td>\n",
       "      <td>5.0</td>\n",
       "      <td>บริการ,ดีมาก,พนักงาน,น่ารัก,สะอาดสะอ้าน,ใส่ใจ,...</td>\n",
       "      <td>2</td>\n",
       "      <td>0.998712</td>\n",
       "    </tr>\n",
       "    <tr>\n",
       "      <th>1</th>\n",
       "      <td>2</td>\n",
       "      <td>352696Px-mo-mo-paradise-เดอะมอลล์-บางกะปิ</td>\n",
       "      <td>Mo-Mo-Paradise (โม โม พาราไดซ์) เดอะมอลล์ บางกะปิ</td>\n",
       "      <td>pakkaramonpondej</td>\n",
       "      <td>รสชาติเหมือนทุกสาขา แต่สาขานี้ บริการดี ที่นั่งดี</td>\n",
       "      <td>นึกถึงชาบูญี่ปุ่นยังไงก็ต้อง คิดถึงโมโม่ พาราไ...</td>\n",
       "      <td>5.0</td>\n",
       "      <td>นึกถึง,ชาบู,ญี่ปุ่น, ,คิดถึง,โม,โม่, ,พาราไดซ์...</td>\n",
       "      <td>3</td>\n",
       "      <td>0.998947</td>\n",
       "    </tr>\n",
       "    <tr>\n",
       "      <th>2</th>\n",
       "      <td>3</td>\n",
       "      <td>352696Px-mo-mo-paradise-เดอะมอลล์-บางกะปิ</td>\n",
       "      <td>Mo-Mo-Paradise (โม โม พาราไดซ์) เดอะมอลล์ บางกะปิ</td>\n",
       "      <td>saanowy</td>\n",
       "      <td>ชาบูพรีเมี่ยมสไตล์ญี่ปุ่น เนื้อดีมากกก</td>\n",
       "      <td>มาทานช่วงนี้ สามารถนั่งโต๊ะเดียวกัน หม้อเดียวก...</td>\n",
       "      <td>4.0</td>\n",
       "      <td>ทาน, ,นั่ง,โต๊ะ, ,หม้อ, ,โต๊ะ,ยังมี,ฉาก,กั้น, ...</td>\n",
       "      <td>3</td>\n",
       "      <td>0.999647</td>\n",
       "    </tr>\n",
       "    <tr>\n",
       "      <th>3</th>\n",
       "      <td>4</td>\n",
       "      <td>352696Px-mo-mo-paradise-เดอะมอลล์-บางกะปิ</td>\n",
       "      <td>Mo-Mo-Paradise (โม โม พาราไดซ์) เดอะมอลล์ บางกะปิ</td>\n",
       "      <td>ployynp</td>\n",
       "      <td>เนื้อดี ไอติมดี คุ้มค่าดี</td>\n",
       "      <td>ถ้านึกถึงชาบูที่มีเนื้อเน้นๆ ในราคาไม่โหดจนเกิ...</td>\n",
       "      <td>4.0</td>\n",
       "      <td>นึกถึง,ชาบู,เนื้อ, ,ราคา,โหด,เกินไป, ,นึกถึง,โ...</td>\n",
       "      <td>3</td>\n",
       "      <td>0.998356</td>\n",
       "    </tr>\n",
       "    <tr>\n",
       "      <th>4</th>\n",
       "      <td>5</td>\n",
       "      <td>352696Px-mo-mo-paradise-เดอะมอลล์-บางกะปิ</td>\n",
       "      <td>Mo-Mo-Paradise (โม โม พาราไดซ์) เดอะมอลล์ บางกะปิ</td>\n",
       "      <td>665a902b335b434ab489f00f2fbb477e</td>\n",
       "      <td>อาหารมีคุณภาพ บริการดีค่ะ</td>\n",
       "      <td>เดินมาหน้าร้านแล้วได้กลิ่นชาบูหอมมาก ๆ  ประกอบ...</td>\n",
       "      <td>5.0</td>\n",
       "      <td>เดิน,หน้า,ได้กลิ่น,ชาบู,หอ,มมาก, ,โปร,บัตรเครด...</td>\n",
       "      <td>3</td>\n",
       "      <td>0.998639</td>\n",
       "    </tr>\n",
       "  </tbody>\n",
       "</table>\n",
       "</div>"
      ],
      "text/plain": [
       "   Review ID                              Restaurant_ID  \\\n",
       "0          1  352696Px-mo-mo-paradise-เดอะมอลล์-บางกะปิ   \n",
       "1          2  352696Px-mo-mo-paradise-เดอะมอลล์-บางกะปิ   \n",
       "2          3  352696Px-mo-mo-paradise-เดอะมอลล์-บางกะปิ   \n",
       "3          4  352696Px-mo-mo-paradise-เดอะมอลล์-บางกะปิ   \n",
       "4          5  352696Px-mo-mo-paradise-เดอะมอลล์-บางกะปิ   \n",
       "\n",
       "                                          Restaurant  \\\n",
       "0  Mo-Mo-Paradise (โม โม พาราไดซ์) เดอะมอลล์ บางกะปิ   \n",
       "1  Mo-Mo-Paradise (โม โม พาราไดซ์) เดอะมอลล์ บางกะปิ   \n",
       "2  Mo-Mo-Paradise (โม โม พาราไดซ์) เดอะมอลล์ บางกะปิ   \n",
       "3  Mo-Mo-Paradise (โม โม พาราไดซ์) เดอะมอลล์ บางกะปิ   \n",
       "4  Mo-Mo-Paradise (โม โม พาราไดซ์) เดอะมอลล์ บางกะปิ   \n",
       "\n",
       "                               User  \\\n",
       "0  7b16469831074f7abc7824745ee75212   \n",
       "1                  pakkaramonpondej   \n",
       "2                           saanowy   \n",
       "3                           ployynp   \n",
       "4  665a902b335b434ab489f00f2fbb477e   \n",
       "\n",
       "                                            Headline  \\\n",
       "0  ที่สำคัญของร้านนี้คือบริการดีมากพนักงานน่ารักส...   \n",
       "1  รสชาติเหมือนทุกสาขา แต่สาขานี้ บริการดี ที่นั่งดี   \n",
       "2             ชาบูพรีเมี่ยมสไตล์ญี่ปุ่น เนื้อดีมากกก   \n",
       "3                          เนื้อดี ไอติมดี คุ้มค่าดี   \n",
       "4                          อาหารมีคุณภาพ บริการดีค่ะ   \n",
       "\n",
       "                                              Review  Rating  \\\n",
       "0  ที่สำคัญของร้านนี้คือบริการดีมากพนักงานน่ารักส...     5.0   \n",
       "1  นึกถึงชาบูญี่ปุ่นยังไงก็ต้อง คิดถึงโมโม่ พาราไ...     5.0   \n",
       "2  มาทานช่วงนี้ สามารถนั่งโต๊ะเดียวกัน หม้อเดียวก...     4.0   \n",
       "3  ถ้านึกถึงชาบูที่มีเนื้อเน้นๆ ในราคาไม่โหดจนเกิ...     4.0   \n",
       "4  เดินมาหน้าร้านแล้วได้กลิ่นชาบูหอมมาก ๆ  ประกอบ...     5.0   \n",
       "\n",
       "                                    Review_tokenized  topics     score  \n",
       "0  บริการ,ดีมาก,พนักงาน,น่ารัก,สะอาดสะอ้าน,ใส่ใจ,...       2  0.998712  \n",
       "1  นึกถึง,ชาบู,ญี่ปุ่น, ,คิดถึง,โม,โม่, ,พาราไดซ์...       3  0.998947  \n",
       "2  ทาน, ,นั่ง,โต๊ะ, ,หม้อ, ,โต๊ะ,ยังมี,ฉาก,กั้น, ...       3  0.999647  \n",
       "3  นึกถึง,ชาบู,เนื้อ, ,ราคา,โหด,เกินไป, ,นึกถึง,โ...       3  0.998356  \n",
       "4  เดิน,หน้า,ได้กลิ่น,ชาบู,หอ,มมาก, ,โปร,บัตรเครด...       3  0.998639  "
      ]
     },
     "execution_count": 48,
     "metadata": {},
     "output_type": "execute_result"
    }
   ],
   "source": [
    "df.head()"
   ]
  },
  {
   "cell_type": "code",
   "execution_count": 49,
   "metadata": {},
   "outputs": [
    {
     "name": "stderr",
     "output_type": "stream",
     "text": [
      "C:\\Users\\User\\anaconda3\\lib\\site-packages\\ipykernel\\ipkernel.py:287: DeprecationWarning: `should_run_async` will not call `transform_cell` automatically in the future. Please pass the result to `transformed_cell` argument and any exception that happen during thetransform in `preprocessing_exc_tuple` in IPython 7.17 and above.\n",
      "  and should_run_async(code)\n"
     ]
    },
    {
     "data": {
      "text/plain": [
       "3    12\n",
       "2     8\n",
       "1     1\n",
       "Name: topics, dtype: int64"
      ]
     },
     "execution_count": 49,
     "metadata": {},
     "output_type": "execute_result"
    }
   ],
   "source": [
    "df.topics.value_counts()"
   ]
  },
  {
   "cell_type": "code",
   "execution_count": 50,
   "metadata": {
    "scrolled": true
   },
   "outputs": [
    {
     "name": "stdout",
     "output_type": "stream",
     "text": [
      "                                           Restaurant  \\\n",
      "0   Mo-Mo-Paradise (โม โม พาราไดซ์) เดอะมอลล์ บางกะปิ   \n",
      "1   Mo-Mo-Paradise (โม โม พาราไดซ์) เดอะมอลล์ บางกะปิ   \n",
      "2   Mo-Mo-Paradise (โม โม พาราไดซ์) เดอะมอลล์ บางกะปิ   \n",
      "3   Mo-Mo-Paradise (โม โม พาราไดซ์) เดอะมอลล์ บางกะปิ   \n",
      "4   Mo-Mo-Paradise (โม โม พาราไดซ์) เดอะมอลล์ บางกะปิ   \n",
      "5   Mo-Mo-Paradise (โม โม พาราไดซ์) เดอะมอลล์ บางกะปิ   \n",
      "6   Mo-Mo-Paradise (โม โม พาราไดซ์) เดอะมอลล์ บางกะปิ   \n",
      "7   Mo-Mo-Paradise (โม โม พาราไดซ์) เดอะมอลล์ บางกะปิ   \n",
      "8           Shabushi (ชาบูชิ) เดอะมอลล์บางกะปิ ชั้น G   \n",
      "9           Shabushi (ชาบูชิ) เดอะมอลล์บางกะปิ ชั้น G   \n",
      "10          Shabushi (ชาบูชิ) เดอะมอลล์บางกะปิ ชั้น G   \n",
      "11          Shabushi (ชาบูชิ) เดอะมอลล์บางกะปิ ชั้น G   \n",
      "12          Shabushi (ชาบูชิ) เดอะมอลล์บางกะปิ ชั้น G   \n",
      "13          Shabushi (ชาบูชิ) เดอะมอลล์บางกะปิ ชั้น G   \n",
      "14          Shabushi (ชาบูชิ) เดอะมอลล์บางกะปิ ชั้น G   \n",
      "15          Shabushi (ชาบูชิ) เดอะมอลล์บางกะปิ ชั้น G   \n",
      "16                                      ข้าน้อยขอชาบู   \n",
      "17                                      ข้าน้อยขอชาบู   \n",
      "18                                      ข้าน้อยขอชาบู   \n",
      "19                                      ข้าน้อยขอชาบู   \n",
      "20                                      ข้าน้อยขอชาบู   \n",
      "\n",
      "                                     Review_tokenized  topics  \n",
      "0   บริการ,ดีมาก,พนักงาน,น่ารัก,สะอาดสะอ้าน,ใส่ใจ,...       2  \n",
      "1   นึกถึง,ชาบู,ญี่ปุ่น, ,คิดถึง,โม,โม่, ,พาราไดซ์...       3  \n",
      "2   ทาน, ,นั่ง,โต๊ะ, ,หม้อ, ,โต๊ะ,ยังมี,ฉาก,กั้น, ...       3  \n",
      "3   นึกถึง,ชาบู,เนื้อ, ,ราคา,โหด,เกินไป, ,นึกถึง,โ...       3  \n",
      "4   เดิน,หน้า,ได้กลิ่น,ชาบู,หอ,มมาก, ,โปร,บัตรเครด...       3  \n",
      "5   บุ,ฟเฟ่, ,ชาบู,แนว,ญี่ปุ่น, ,สาย,เนื้อหมู, ,เน...       3  \n",
      "6   Number, ,20, , ,โม,โม, ,–, ,พารา,ได,ส์, ,สาขา,...       2  \n",
      "7   ชาบู,เฟรนไชส์,รสชาติ,ดีมาก,คุ้มค่า,เหมาะสม,ราค...       2  \n",
      "8    ,าน,ขา,บู,ชิ,ตอน,หิว, ,ไม่งั้น,คุ้ม, ,ฮ่า, ,เ...       2  \n",
      "9   ชอบ,กุ้ง,ทอด,เท,ม,ปุระ, ,กุ้ง,เท,ม,ปุระ,คุ้ม, ...       1  \n",
      "10  กลับมา,อัพเดท,ราคา,ชาบู,ชิ, ,ตอนนี้, ,399, ,บา...       2  \n",
      "11  ห่างหาย,สำหรับ,ชาบู,ชิ, ,ขึ้นราคา, ,แถม,ลด,เวล...       2  \n",
      "12  วันก่อน,นัด,หา,ข้าว,ทาน,เดอะ,แกงค์, ,ลงเอย,อาห...       2  \n",
      "13  หลายครั้ง,เลือก,กิน,บุฟเฟต์,อาราม,ณ์,รอ,คิว,สุ...       3  \n",
      "14  สวัสดี,รีวิว,ชาบู,ชิ, ,บุ,ฟเฟ,ขวัญใจ, ,คน,เมนู...       3  \n",
      "15  ชาบู,ชิ, ,สาขา,เดอะ,มอลล์,กะปิ, ,ตั้งอยู่,ประต...       3  \n",
      "16  หลังจากที่,ลอง,สาขา,ยู,นม,อลล์, ,รอบ,สาขา,เดอะ...       3  \n",
      "17  บุฟเฟ่ต์,โปรโมชั่น,หัว,199,บาท, ,น้ำ, ,VAT, ,ท...       3  \n",
      "18  รู้จัก, ,union, ,mall, ,ลอง,กิน, ,จำได้,ขึ้นใจ...       2  \n",
      "19  อร่อย, ,คุ้มค่า,สมราคา, ,บุ,ฟเฟ่,หมู,ผัก, ,น้ำ...       3  \n",
      "20   , ,จ่าย,ราคา, ,199, ,บาท, ,จ่าย,เงินสด, ,ราคา...       3  \n"
     ]
    },
    {
     "name": "stderr",
     "output_type": "stream",
     "text": [
      "C:\\Users\\User\\anaconda3\\lib\\site-packages\\ipykernel\\ipkernel.py:287: DeprecationWarning: `should_run_async` will not call `transform_cell` automatically in the future. Please pass the result to `transformed_cell` argument and any exception that happen during thetransform in `preprocessing_exc_tuple` in IPython 7.17 and above.\n",
      "  and should_run_async(code)\n"
     ]
    }
   ],
   "source": [
    "print(df[['Restaurant','Review_tokenized','topics']])"
   ]
  },
  {
   "cell_type": "code",
   "execution_count": 51,
   "metadata": {},
   "outputs": [
    {
     "name": "stderr",
     "output_type": "stream",
     "text": [
      "C:\\Users\\User\\anaconda3\\lib\\site-packages\\ipykernel\\ipkernel.py:287: DeprecationWarning: `should_run_async` will not call `transform_cell` automatically in the future. Please pass the result to `transformed_cell` argument and any exception that happen during thetransform in `preprocessing_exc_tuple` in IPython 7.17 and above.\n",
      "  and should_run_async(code)\n"
     ]
    },
    {
     "data": {
      "image/png": "[encoded data removed]",
      "text/plain": [
       "<Figure size 432x288 with 1 Axes>"
      ]
     },
     "metadata": {
      "needs_background": "light"
     },
     "output_type": "display_data"
    }
   ],
   "source": [
    "count=df.groupby('topics').count()\n",
    "plt.bar(count.index.values, count['Review ID'])\n",
    "plt.xlabel('Num Topics')\n",
    "plt.xticks(range(0, 4))\n",
    "plt.ylabel('Number of Review')\n",
    "plt.show()"
   ]
  },
  {
   "cell_type": "code",
   "execution_count": null,
   "metadata": {},
   "outputs": [],
   "source": []
  },
  {
   "cell_type": "code",
   "execution_count": null,
   "metadata": {},
   "outputs": [],
   "source": []
  }
 ],
 "metadata": {
  "kernelspec": {
   "display_name": "Python 3",
   "language": "python",
   "name": "python3"
  },
  "language_info": {
   "codemirror_mode": {
    "name": "ipython",
    "version": 3
   },
   "file_extension": ".py",
   "mimetype": "text/x-python",
   "name": "python",
   "nbconvert_exporter": "python",
   "pygments_lexer": "ipython3",
   "version": "3.8.5"
  }
 },
 "nbformat": 4,
 "nbformat_minor": 4
}
